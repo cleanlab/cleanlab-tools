{
 "cells": [
  {
   "cell_type": "markdown",
   "metadata": {},
   "source": [
    "# Deploy Trustworthy RAG with MongoDB and Cleanlab"
   ]
  },
  {
   "cell_type": "markdown",
   "metadata": {},
   "source": [
    "Large Language Models (LLMs) occasionally hallucinate incorrect answers, especially for questions not well-supported within their training data. While organizations are rapidly adopting Retrieval Augmented Generation (RAG) to pair the power of LLMs with their own proprietary data, hallucinated/incorrect RAG responses remain a problem.\n",
    "\n",
    "This tutorial demonstrates a solution to build **trustworthy** RAG applications using MongoDB and Cleanlab to mitigate hallucinated/incorrect responses.\n",
    "\n",
    "[Cleanlab](https://help.cleanlab.ai/tlm/) boosts the reliability of any LLM application by scoring when LLM responses are untrusworthy. Trust scoring happens in real-time and does not require any data labeling or model training work. Cleanlab provides additional real-time Evals for other RAG components like the retrieved context, which help you diagnose *why* certain RAG responses and inaccurate/bad. Cleanlab's detection enables you to automatically flag/prevent inaccurate/bad responses from your RAG app, and avoid losing your users' trust.\n",
    "\n",
    "MongoDB streamlines RAG application development, providing a scalable vector database to store your organization's knowledge. By providing all of the necessary components via a simple developer experience, MongoDB enables you to quickly deploy a performant RAG application. Adding Cleanlab on top provides an additional layer of trust."
   ]
  },
  {
   "cell_type": "markdown",
   "metadata": {},
   "source": [
    "## Setup\n",
    "\n",
    "For this tutorial, we will need:\n",
    "- MongoDB cluster: A managed database (DB) instance provided by MongoDB. Follow the [quickstart](https://www.mongodb.com/docs/atlas/atlas-vector-search/tutorials/vector-search-quick-start/#set-up-your--cluster) to create one for free\n",
    "- Cleanlab API Key: Sign up at [tlm.cleanlab.ai/](https://tlm.cleanlab.ai/) to get a free key\n",
    "- OpenAI API Key: To make completion and embedding requests to an LLM\n",
    "\n",
    "Start by installing the required dependencies:"
   ]
  },
  {
   "cell_type": "code",
   "execution_count": null,
   "metadata": {},
   "outputs": [],
   "source": [
    "%pip install pymongo cleanlab_tlm"
   ]
  },
  {
   "cell_type": "code",
   "execution_count": 1,
   "metadata": {},
   "outputs": [],
   "source": [
    "import os, re, time\n",
    "from dotenv import load_dotenv\n",
    "from typing import List\n",
    "\n",
    "from pymongo.mongo_client import MongoClient\n",
    "from pymongo.server_api import ServerApi\n",
    "from pymongo.operations import SearchIndexModel\n",
    "\n",
    "from openai import OpenAI\n",
    "from cleanlab_tlm import TrustworthyRAG, Eval, get_default_evals"
   ]
  },
  {
   "cell_type": "markdown",
   "metadata": {},
   "source": [
    "Save the retrieved keys and URL as environment variables"
   ]
  },
  {
   "cell_type": "code",
   "execution_count": null,
   "metadata": {},
   "outputs": [],
   "source": [
    "os.environ['MONGODB_URI'] = '<your-mongodb-uri>'\n",
    "os.environ['OPENAI_API_KEY'] = '<your-openai-key>'\n",
    "os.environ['CLEANLAB_API_KEY'] = '<your-cleanlab-key>'"
   ]
  },
  {
   "cell_type": "code",
   "execution_count": null,
   "metadata": {},
   "outputs": [],
   "source": [
    "uri = os.environ[\"MONGODB_URI\"]\n",
    "\n",
    "# Create a new client and connect to the server\n",
    "client = MongoClient(uri, server_api=ServerApi('1'))\n",
    "\n",
    "# Send a ping to confirm a successful connection\n",
    "try:\n",
    "    client.admin.command('ping')\n",
    "    print(\"Pinged your deployment. You successfully connected to MongoDB!\")\n",
    "except Exception as e:\n",
    "    print(e)"
   ]
  },
  {
   "cell_type": "markdown",
   "metadata": {},
   "source": [
    "Now, we initialize Cleanlab's object with default settings. You can achieve better results or lower latency by adjusting the [configurations](https://help.cleanlab.ai/tlm/faq/#recommended-tlm-configurations-to-try)."
   ]
  },
  {
   "cell_type": "code",
   "execution_count": 3,
   "metadata": {},
   "outputs": [],
   "source": [
    "cleanlab_api_key = os.environ[\"CLEANLAB_API_KEY\"]   # Sign up at Cleanlab's developer portal to get a free key\n",
    "trustworthy_rag = TrustworthyRAG(api_key=cleanlab_api_key)     # Optional configurations can improve accuracy/latency\n",
    "\n",
    "openai_api_key = os.environ[\"OPENAI_API_KEY\"]   # Get it from OpenAI's app portal\n",
    "openai_client = OpenAI(api_key=openai_api_key)"
   ]
  },
  {
   "cell_type": "markdown",
   "metadata": {},
   "source": [
    "## Read data\n",
    "\n",
    "This tutorial uses Nvidia’s Q1 FY2024 earnings report as an example data source for populating the RAG application's knowledge base."
   ]
  },
  {
   "cell_type": "code",
   "execution_count": null,
   "metadata": {},
   "outputs": [],
   "source": [
    "!wget -nc 'https://cleanlab-public.s3.amazonaws.com/Datasets/NVIDIA_Financial_Results_Q1_FY2024.md'"
   ]
  },
  {
   "cell_type": "code",
   "execution_count": null,
   "metadata": {},
   "outputs": [
    {
     "name": "stdout",
     "output_type": "stream",
     "text": [
      "# NVIDIA Announces Financial Results for First Quarter Fiscal 2024\n",
      "\n",
      "NVIDIA (NASDAQ: NVDA) today reported revenue for the first quarter ended April 30, 2023, of $7.19 billion, down 13% from a year ago \n"
     ]
    }
   ],
   "source": [
    "with open(\"NVIDIA_Financial_Results_Q1_FY2024.md\", \"r\", encoding=\"utf-8\") as file:\n",
    "    data = file.read()\n",
    "\n",
    "print(data[:200])"
   ]
  },
  {
   "cell_type": "markdown",
   "metadata": {},
   "source": [
    "## Chunk documents\n",
    "\n",
    "To control the size of each context embedded in our vector index and provided to the LLM, we split documents into smaller chunks.\n",
    "When a user submits a query to the RAG system, the relevant chunks are retrieved from the vector database and used as context for the LLM to generate a response.\n",
    "Embedding just a few words provides too little information in each context, while embedding entire documents makes it harder to retrieve specific snippets of useful information for accurate responses. \n",
    "\n",
    "It's important to find the right chunk size for your use-case, depending on the types of documents and questions that are handled.\n",
    "Here we use a simple chunking strategy, splitting the text based on a fixed `chunk_size`. Additionally, chunks overlap based on a specified `overlap_size`.\n",
    "\n",
    "We will define helper functions for everything retrieval and vector database."
   ]
  },
  {
   "cell_type": "code",
   "execution_count": null,
   "metadata": {},
   "outputs": [],
   "source": [
    "# Define a function to chunk text\n",
    "def chunk(text: str, chunk_size: int, overlap_size: int) -> List[str]:\n",
    "    \"\"\"Splits the text for vector representation and retrieval\"\"\"\n",
    "    source_text = re.sub(r\"\\s+\", \" \", text)  # Remove multiple whitespaces\n",
    "    text_words = re.split(r\"\\s\", source_text)  # Split text by single whitespace\n",
    "\n",
    "    chunks = []\n",
    "    for i in range(0, len(text_words), chunk_size):  # Iterate through & chunk data\n",
    "        chunk = \" \".join(text_words[max(i - overlap_size, 0): i + chunk_size])  # Join a set of words into a string\n",
    "        chunks.append(chunk)\n",
    "    return chunks\n",
    "\n",
    "# Define a function to generate embeddings\n",
    "def get_embedding(text):\n",
    "   \"\"\"Generates vector embeddings for the given text.\"\"\"\n",
    "   embedding = openai_client.embeddings.create(input = [text], model=embedding_model).data[0].embedding\n",
    "   return embedding\n",
    "\n",
    "# Define a function to run vector search queries\n",
    "def get_relevant_chunks(query):\n",
    "  \"\"\"Gets relevant chunks from vector search to respond to the query.\"\"\"\n",
    "  query_embedding = get_embedding(query)\n",
    "  pipeline = [\n",
    "      {\n",
    "            \"$vectorSearch\": {\n",
    "              \"index\": \"vector_index\",\n",
    "              \"queryVector\": query_embedding,\n",
    "              \"path\": \"embedding\",\n",
    "              \"exact\": True,\n",
    "              \"limit\": 2\n",
    "            }\n",
    "      }, {\n",
    "            \"$project\": {\n",
    "              \"_id\": 0,\n",
    "              \"text\": 1\n",
    "         }\n",
    "      }\n",
    "  ]\n",
    "  results = collection.aggregate(pipeline)\n",
    "  \n",
    "  chunks = []\n",
    "  for result in results:\n",
    "    chunk_text = result['text']\n",
    "    chunks.append(chunk_text)\n",
    "  return chunks\n",
    "\n",
    "# Define a function to create context for LLM from retrieved chunks\n",
    "def create_context(chunks):\n",
    "    \"\"\"Create context by concatenating chunks.\"\"\"\n",
    "    context = \"Context:\\n\"\n",
    "    for chunk in chunks:\n",
    "        context += f\"{chunk}\\n\"\n",
    "    return context"
   ]
  },
  {
   "cell_type": "code",
   "execution_count": null,
   "metadata": {},
   "outputs": [
    {
     "data": {
      "text/plain": [
       "[\"# NVIDIA Announces Financial Results for First Quarter Fiscal 2024 NVIDIA (NASDAQ: NVDA) today reported revenue for the first quarter ended April 30, 2023, of $7.19 billion, down 13% from a year ago and up 19% from the previous quarter. - **Quarterly revenue** of $7.19 billion, up 19% from the previous quarter - **Record Data Center revenue** of $4.28 billion - **Second quarter fiscal 2024 revenue outlook** of $11.00 billion GAAP earnings per diluted share for the quarter were $0.82, up 28% from a year ago and up 44% from the previous quarter. Non-GAAP earnings per diluted share were $1.09, down 20% from a year ago and up 24% from the previous quarter. Jensen Huang, founder and CEO of NVIDIA, commented on the significant transitions the computer industry is undergoing, particularly accelerated computing and generative AI, emphasizing NVIDIA's role and advancements in these areas. During the first quarter of fiscal\",\n",
       " \"the computer industry is undergoing, particularly accelerated computing and generative AI, emphasizing NVIDIA's role and advancements in these areas. During the first quarter of fiscal 2024, NVIDIA returned to shareholders $99 million in cash dividends and announced its next quarterly cash dividend of $0.04 per share on June 30, 2023, to all shareholders of record on June 8, 2023. ## Q1 Fiscal 2024 Summary ### GAAP | ($ in millions, except earnings per share) | Q1 FY24 | Q4 FY23 | Q1 FY23 | Q/Q Change | Y/Y Change | |---------------------------------------------|---------|---------|---------|------------|------------| | Revenue | $7,192 | $6,051 | $8,288 | Up 19% | Down 13% | | Gross Margin | 64.6% | 63.3% | 65.5% | Up 1.3 pts | Down 0.9 pts | | Operating Expenses | $2,508 | $2,576 | $3,563 | Down 3% | Down 30% | | Operating Income | $2,140 | $1,257 | $1,868 | Up 70% | Up 15% | | Net Income | $2,043 | $1,414 | $1,618 | Up 44% | Up 26% | | Diluted Earnings\",\n",
       " 'Up 70% | Up 15% | | Net Income | $2,043 | $1,414 | $1,618 | Up 44% | Up 26% | | Diluted Earnings Per Share | $0.82 | $0.57 | $0.64 | Up 44% | Up 28% | ### Non-GAAP | ($ in millions, except earnings per share) | Q1 FY24 | Q4 FY23 | Q1 FY23 | Q/Q Change | Y/Y Change | |---------------------------------------------|---------|---------|---------|------------|------------| | Revenue | $7,192 | $6,051 | $8,288 | Up 19% | Down 13% | | Gross Margin | 66.8% | 66.1% | 67.1% | Up 0.7 pts | Down 0.3 pts | | Operating Expenses | $1,750 | $1,775 | $1,608 | Down 1% | Up 9% | | Operating Income | $3,052 | $2,224 | $3,955 | Up 37% | Down 23% | | Net Income | $2,713 | $2,174 | $3,443 | Up 25% | Down 21% | | Diluted Earnings Per Share | $1.09 | $0.88 | $1.36 | Up 24% | Down 20% | ## Outlook NVIDIA’s outlook for the second quarter of',\n",
       " 'Earnings Per Share | $1.09 | $0.88 | $1.36 | Up 24% | Down 20% | ## Outlook NVIDIA’s outlook for the second quarter of fiscal 2024 includes: - **Revenue**: Expected to be $11.00 billion, plus or minus 2%. - **Gross Margins**: GAAP and non-GAAP gross margins are expected to be 68.6% and 70.0%, respectively, plus or minus 50 basis points. - **Operating Expenses**: GAAP and non-GAAP operating expenses are expected to be approximately $2.71 billion and $1.90 billion, respectively. - **Tax Rates**: GAAP and non-GAAP tax rates are expected to be 14.0%, plus or minus 1%, excluding any discrete items. ## Highlights NVIDIA has made significant progress in various areas since its last earnings announcement: ### Data Center - **First-quarter revenue** was a record $4.28 billion, up 14% from a year ago and up 18% from the previous quarter. - Launched **four inference platforms** that combine the company’s full-stack inference software with the latest NVIDIA Ada, NVIDIA Hopper™, and NVIDIA Grace Hopper™ processors. - Announced that **Google Cloud** is the first cloud provider offering',\n",
       " 'inference software with the latest NVIDIA Ada, NVIDIA Hopper™, and NVIDIA Grace Hopper™ processors. - Announced that **Google Cloud** is the first cloud provider offering the new NVIDIA L4 Tensor Core GPU to accelerate generative AI applications. - Introduced **NVIDIA AI Foundations** to help businesses create and operate custom large language models and generative AI models trained with their own proprietary data for domain-specific tasks. - Unveiled the **NVIDIA cuLitho software library** for computational lithography to accelerate the design and manufacturing of next-gen semiconductors. - Expanded its partners offering new products and services based on the **NVIDIA H100 Tensor Core GPU** — including Amazon Web Services, Google Cloud, Microsoft Azure, and Oracle Cloud Infrastructure. - Partnered with **ServiceNow** to build generative AI across enterprise IT. - Announced a collaboration with **Medtronic** to build an AI platform for medical devices. - Joined with **Dell Technologies** in Project Helix to deliver full-stack solutions to help enterprises build and deploy trustworthy generative AI applications. - Announced it is integrating NVIDIA AI Enterprise software into **Microsoft’s Azure Machine Learning**',\n",
       " 'solutions to help enterprises build and deploy trustworthy generative AI applications. - Announced it is integrating NVIDIA AI Enterprise software into **Microsoft’s Azure Machine Learning** to help enterprises accelerate their AI initiatives. ### Gaming - First-quarter revenue was $2.24 billion, down 38% from a year ago and up 22% from the previous quarter. - Announced the **GeForce RTX™ 4060 family of GPUs**, bringing the advancements of NVIDIA Ada Lovelace architecture and DLSS, starting at $299. - Launched the **GeForce RTX 4070 GPU** based on the Ada architecture, which enables DLSS 3, real-time ray-tracing, and the ability to run most modern games at over 100 frames per second at 1440p resolution. - Added **36 DLSS gaming titles**, bringing the total number of games and apps to 300. - Made **path tracing** available for the first time on a major gaming title through collaboration with CD PROJEKT RED on an update to Cyberpunk 2077. - Expanded **GeForce NOW’s** game titles to more than 1,600, including the first Microsoft Xbox game, Gears 5. ### Professional Visualization - First-quarter',\n",
       " 'Cyberpunk 2077. - Expanded **GeForce NOW’s** game titles to more than 1,600, including the first Microsoft Xbox game, Gears 5. ### Professional Visualization - First-quarter revenue was $295 million, down 53% from a year ago and up 31% from the previous quarter. - Announced **NVIDIA Omniverse™ Cloud**, a fully managed service running in Microsoft Azure, for the development and deployment of industrial metaverse applications. - Expanded its collaboration with **Microsoft** to connect Microsoft 365 applications with Omniverse. - Announced **six new NVIDIA RTX™ GPUs** for mobile and desktop workstations based on the Ada architecture. ### Automotive - First-quarter revenue was a record $296 million, up 114% from a year ago and up 1% from the previous quarter. - Announced that its automotive design win pipeline has grown to **$14 billion over the next six years**, up from $11 billion a year ago. - Announced that the world’s leading electric vehicle maker **BYD** will extend its use of NVIDIA DRIVE Orin™ across new models. ## Financial Statements and Non-GAAP Measures Detailed financial statements and reconciliation of',\n",
       " \"maker **BYD** will extend its use of NVIDIA DRIVE Orin™ across new models. ## Financial Statements and Non-GAAP Measures Detailed financial statements and reconciliation of GAAP to non-GAAP financial measures are provided, highlighting NVIDIA's commitment to transparency and providing a comprehensive view of its financial performance. For more detailed information, visit [NVIDIA's investor relations website](https://investor.nvidia.com/). *This document contains forward-looking statements which are subject to risks and uncertainties.* © 2023 NVIDIA Corporation. All rights reserved. Other company and product names may be trademarks of the respective companies with which they are associated.\"]"
      ]
     },
     "metadata": {},
     "output_type": "display_data"
    }
   ],
   "source": [
    "chunk_size = 150\n",
    "overlap_size = 25\n",
    "\n",
    "chunked_text = chunk(data, chunk_size, overlap_size)\n",
    "chunked_text"
   ]
  },
  {
   "cell_type": "markdown",
   "metadata": {},
   "source": [
    "The document is divided into 8 chunks. Now, let's upload them to our vector index."
   ]
  },
  {
   "cell_type": "markdown",
   "metadata": {},
   "source": [
    "## Create index in MongoDB Atlas\n",
    "\n",
    "Here, we will instantiate the Database, Collection and the Vector Index. <br />\n",
    "MongoDB can lazily create a new Database and Collection after we insert a document into the Collection. "
   ]
  },
  {
   "cell_type": "code",
   "execution_count": 4,
   "metadata": {},
   "outputs": [],
   "source": [
    "# Define names for the Database and Collection\n",
    "database_name = 'nvidia2024'\n",
    "collection_name = 'fy2024'\n",
    "\n",
    "database = client[database_name]\n",
    "collection = database[collection_name]"
   ]
  },
  {
   "cell_type": "markdown",
   "metadata": {},
   "source": [
    "For creating the vector index, we specify the `numDimensions` i.e. the Embedding dimensions. <br />\n",
    "Here, we use OpenAI's `text-embedding-3-small` model for generating embedding vectors which gives an embedding of size `1536`.\n",
    "\n",
    "Let's define them."
   ]
  },
  {
   "cell_type": "code",
   "execution_count": null,
   "metadata": {},
   "outputs": [],
   "source": [
    "# Embedding specification\n",
    "embedding_model = \"text-embedding-3-small\"\n",
    "embedding_dim = 1536\n",
    "\n",
    "# Name of MongoDB vector index\n",
    "index_name = \"vector_index\"\n",
    "\n",
    "# Create search index model\n",
    "search_index_model = SearchIndexModel(\n",
    "  definition = {\n",
    "    \"fields\": [\n",
    "      {\n",
    "        \"type\": \"vector\",\n",
    "        \"path\": \"embedding\",\n",
    "        \"similarity\": \"dotProduct\",\n",
    "        \"numDimensions\": embedding_dim,\n",
    "        \"quantization\": \"scalar\"\n",
    "      }\n",
    "    ]\n",
    "  },\n",
    "  name=index_name,\n",
    "  type=\"vectorSearch\",\n",
    ")"
   ]
  },
  {
   "cell_type": "markdown",
   "metadata": {},
   "source": [
    "## Upsert chunks & vectors to MongoDB"
   ]
  },
  {
   "cell_type": "code",
   "execution_count": null,
   "metadata": {},
   "outputs": [],
   "source": [
    "# Ingest data into Atlas\n",
    "for text in chunked_text:\n",
    "   embedding = get_embedding(text)\n",
    "   collection.insert_one({ \"text\": text, \"embedding\": embedding })"
   ]
  },
  {
   "cell_type": "markdown",
   "metadata": {},
   "source": [
    "Now that we've upserted Documents into our Collection, our Database and Collection should be ready to use.\n",
    "\n",
    "Let's instantiate the search index and ping it to verify."
   ]
  },
  {
   "cell_type": "code",
   "execution_count": null,
   "metadata": {},
   "outputs": [
    {
     "name": "stdout",
     "output_type": "stream",
     "text": [
      "Polling to check if the index is ready. This may take up to a minute.\n",
      "vector_index is ready for querying.\n"
     ]
    }
   ],
   "source": [
    "# Instantiate vector index\n",
    "result = collection.create_search_index(model=search_index_model)\n",
    "\n",
    "# Wait for initial sync to complete\n",
    "print(\"Polling to check if the index is ready. This may take up to a minute.\")\n",
    "predicate=None\n",
    "if predicate is None:\n",
    "  predicate = lambda index: index.get(\"queryable\") is True\n",
    "\n",
    "while True:\n",
    "  indices = list(collection.list_search_indexes(result))\n",
    "  if len(indices) and predicate(indices[0]):\n",
    "    break\n",
    "  time.sleep(5)\n",
    "print(index_name + \" is ready for querying.\")"
   ]
  },
  {
   "cell_type": "markdown",
   "metadata": {},
   "source": [
    "## Use our RAG application\n",
    "\n",
    "Now that the MongoDB Atlas is loaded with text chunks and their corresponding embeddings, we can start querying it to answer questions."
   ]
  },
  {
   "cell_type": "code",
   "execution_count": null,
   "metadata": {},
   "outputs": [],
   "source": [
    "query = \"What was NVIDIA's total revenue in the first quarter of fiscal 2024?\""
   ]
  },
  {
   "cell_type": "code",
   "execution_count": 7,
   "metadata": {},
   "outputs": [
    {
     "data": {
      "text/plain": [
       "[\"# NVIDIA Announces Financial Results for First Quarter Fiscal 2024 NVIDIA (NASDAQ: NVDA) today reported revenue for the first quarter ended April 30, 2023, of $7.19 billion, down 13% from a year ago and up 19% from the previous quarter. - **Quarterly revenue** of $7.19 billion, up 19% from the previous quarter - **Record Data Center revenue** of $4.28 billion - **Second quarter fiscal 2024 revenue outlook** of $11.00 billion GAAP earnings per diluted share for the quarter were $0.82, up 28% from a year ago and up 44% from the previous quarter. Non-GAAP earnings per diluted share were $1.09, down 20% from a year ago and up 24% from the previous quarter. Jensen Huang, founder and CEO of NVIDIA, commented on the significant transitions the computer industry is undergoing, particularly accelerated computing and generative AI, emphasizing NVIDIA's role and advancements in these areas. During the first quarter of fiscal\",\n",
       " 'Earnings Per Share | $1.09 | $0.88 | $1.36 | Up 24% | Down 20% | ## Outlook NVIDIA’s outlook for the second quarter of fiscal 2024 includes: - **Revenue**: Expected to be $11.00 billion, plus or minus 2%. - **Gross Margins**: GAAP and non-GAAP gross margins are expected to be 68.6% and 70.0%, respectively, plus or minus 50 basis points. - **Operating Expenses**: GAAP and non-GAAP operating expenses are expected to be approximately $2.71 billion and $1.90 billion, respectively. - **Tax Rates**: GAAP and non-GAAP tax rates are expected to be 14.0%, plus or minus 1%, excluding any discrete items. ## Highlights NVIDIA has made significant progress in various areas since its last earnings announcement: ### Data Center - **First-quarter revenue** was a record $4.28 billion, up 14% from a year ago and up 18% from the previous quarter. - Launched **four inference platforms** that combine the company’s full-stack inference software with the latest NVIDIA Ada, NVIDIA Hopper™, and NVIDIA Grace Hopper™ processors. - Announced that **Google Cloud** is the first cloud provider offering']"
      ]
     },
     "execution_count": 7,
     "metadata": {},
     "output_type": "execute_result"
    }
   ],
   "source": [
    "retrieved_chunks = get_relevant_chunks(query)\n",
    "retrieved_chunks"
   ]
  },
  {
   "cell_type": "markdown",
   "metadata": {},
   "source": [
    "Let's format these chunks into a prompt for the LLM, and call the OpenAI API to get the response."
   ]
  },
  {
   "cell_type": "code",
   "execution_count": null,
   "metadata": {},
   "outputs": [
    {
     "name": "stdout",
     "output_type": "stream",
     "text": [
      "NVIDIA's total revenue in the first quarter of fiscal 2024 was $7.19 billion.\n"
     ]
    }
   ],
   "source": [
    "context = create_context(retrieved_chunks)\n",
    "system_prompt = \"You are a customer service agent for ACME Inc. Your task is to answer the following Customer Question based on the given Context that was retrieved from possibly relevant documents.\"\n",
    "user_prompt = f\"\"\"\n",
    "## Context:\n",
    "{context}\n",
    "\n",
    "## Customer Question:\n",
    "{query}\n",
    "\"\"\"\n",
    "\n",
    "openai_model = 'gpt-4o-mini'\n",
    "response = openai_client.chat.completions.create(\n",
    "    model=openai_model,\n",
    "    messages=[\n",
    "        {\"role\": \"system\", \"content\": system_prompt},\n",
    "        {\"role\": \"user\", \"content\": user_prompt},\n",
    "    ],\n",
    ")\n",
    "answer = response.choices[0].message.content\n",
    "print(answer)"
   ]
  },
  {
   "cell_type": "markdown",
   "metadata": {},
   "source": [
    "This response is indeed correct for our simple query. We can easy verify this response was right by looking at retrieved chunks above."
   ]
  },
  {
   "cell_type": "markdown",
   "metadata": {},
   "source": [
    "## Add a Trust Layer with Cleanlab\n",
    "\n",
    "Let's add a detection layer to catch untrustworthy RAG responses in real-time. TrustworthyRAG runs Cleanlab's state-of-the-art LLM uncertainty estimator, the [Trustworthy Language Model](https://cleanlab.ai/tlm/), to provide a **trustworthiness score** indicating overall confidence that your RAG's response is *correct*. \n",
    "\n",
    "TrustworthyRAG can simultaneously run additional evaluations to diagnose *why* responses are likely incorrect or other types of issues. <br/>Let's see what Evals are run by default:"
   ]
  },
  {
   "cell_type": "code",
   "execution_count": 9,
   "metadata": {},
   "outputs": [
    {
     "name": "stdout",
     "output_type": "stream",
     "text": [
      "context_sufficiency\n",
      "response_groundedness\n",
      "response_helpfulness\n",
      "query_ease\n"
     ]
    }
   ],
   "source": [
    "default_evals = get_default_evals()\n",
    "for eval in default_evals:\n",
    "    print(f\"{eval.name}\")"
   ]
  },
  {
   "cell_type": "markdown",
   "metadata": {},
   "source": [
    "Each Eval returns a score between 0-1 (higher is better) that assesses a different aspect of your RAG system:\n",
    "\n",
    "1. **context_sufficiency**: Evaluates whether the retrieved context contains sufficient information to completely answer the query. A low score indicates that key information is missing from the context (perhaps due to poor retrieval or missing documents).\n",
    "\n",
    "2. **response_groundedness**: Evaluates whether claims/information stated in the response are explicitly supported by the provided context.\n",
    "\n",
    "3. **response_helpfulness**: Evaluates whether the response effectively addresses the user query and appears helpful.\n",
    "\n",
    "4. **query_ease**: Evaluates whether the user query seems easy for an AI system to properly handle. Complex, vague, tricky, or disgruntled-sounding queries receive lower scores.\n",
    "\n",
    "To run TrustworthyRAG, we need the prompt sent to the LLM, which includes the system message, retrieved chunks, the user's query, and the LLM's response."
   ]
  },
  {
   "cell_type": "code",
   "execution_count": null,
   "metadata": {},
   "outputs": [
    {
     "name": "stdout",
     "output_type": "stream",
     "text": [
      "Evaluation results:\n",
      "trustworthiness: 1.0\n",
      "context_sufficiency: 0.9975124375030564\n",
      "response_groundedness: 0.9975124378004101\n",
      "response_helpfulness: 0.9975124371591444\n",
      "query_ease: 0.9975071027792313\n"
     ]
    }
   ],
   "source": [
    "eval_result = trustworthy_rag.score(\n",
    "    query=query,\n",
    "    context=context,\n",
    "    response=answer,\n",
    "    prompt=system_prompt + user_prompt\n",
    ")\n",
    "\n",
    "print(\"Evaluation results:\")\n",
    "for metric, value in eval_result.items():\n",
    "    print(f\"{metric}: {value['score']}\")"
   ]
  },
  {
   "cell_type": "markdown",
   "metadata": {},
   "source": [
    "**Analysis:** The high `trustworthiness_score` indicates this response is very trustworthy, i.e. non-hallucinated and likely correct. The context that was retrieved here is sufficient to answer this query, as reflected by the high `context_sufficiency` score. The high `query_ease` score indicates this is a straightforward query as well.\n",
    "\n",
    "Let's define a function that runs the above workflow."
   ]
  },
  {
   "cell_type": "code",
   "execution_count": null,
   "metadata": {},
   "outputs": [],
   "source": [
    "# Define a function to run end-to-end RAG with trust scoring\n",
    "def get_answer(query: str, evaluator = trustworthy_rag):\n",
    "    \n",
    "    # Fetch the relevant chunks from the vector database\n",
    "    print(f\"Query:\\n{query}\\n\")\n",
    "    retrieved_chunks = get_relevant_chunks(query)\n",
    "    \n",
    "    # Create context from the chunks\n",
    "    context = create_context(retrieved_chunks)\n",
    "    print(context)\n",
    "\n",
    "    # Prepare RAG prompt\n",
    "    system_prompt = \"You are a customer service agent for ACME Inc. Your task is to answer the following Customer Question based on the given Context that was retrieved from possibly relevant documents.\"\n",
    "    user_prompt = f\"\"\"\n",
    "    ## Context:\n",
    "    {context}\n",
    "\n",
    "    ## Customer Question:\n",
    "    {query}\n",
    "    \"\"\"\n",
    "\n",
    "    # Generate the answer using LLM\n",
    "    openai_model = 'gpt-4o-mini'\n",
    "    response = openai_client.chat.completions.create(\n",
    "        model=openai_model,\n",
    "        messages=[\n",
    "            {\"role\": \"system\", \"content\": system_prompt},\n",
    "            {\"role\": \"user\", \"content\": user_prompt},\n",
    "        ],\n",
    "    )\n",
    "    answer = response.choices[0].message.content   \n",
    "    print(f\"Generated response:\\n{answer}\\n\")\n",
    "    \n",
    "    # Evaluate the response using TrustworthyRAG\n",
    "    eval_result = evaluator.score(\n",
    "        query=query,\n",
    "        context=context,\n",
    "        response=answer,\n",
    "        prompt=system_prompt + user_prompt\n",
    "    )\n",
    "\n",
    "    print(\"Evaluation results:\")\n",
    "    for metric, value in eval_result.items():\n",
    "        print(f\"{metric}: {value['score']}\")"
   ]
  },
  {
   "cell_type": "markdown",
   "metadata": {},
   "source": [
    "Now let’s run a *challenging* query that **cannot** be answered using the only document in our RAG application's knowledge base."
   ]
  },
  {
   "cell_type": "code",
   "execution_count": 11,
   "metadata": {},
   "outputs": [
    {
     "name": "stdout",
     "output_type": "stream",
     "text": [
      "Query:\n",
      "How does the report explain why NVIDIA's Gaming revenue decreased year over year?\n",
      "\n",
      "Context:\n",
      "# NVIDIA Announces Financial Results for First Quarter Fiscal 2024 NVIDIA (NASDAQ: NVDA) today reported revenue for the first quarter ended April 30, 2023, of $7.19 billion, down 13% from a year ago and up 19% from the previous quarter. - **Quarterly revenue** of $7.19 billion, up 19% from the previous quarter - **Record Data Center revenue** of $4.28 billion - **Second quarter fiscal 2024 revenue outlook** of $11.00 billion GAAP earnings per diluted share for the quarter were $0.82, up 28% from a year ago and up 44% from the previous quarter. Non-GAAP earnings per diluted share were $1.09, down 20% from a year ago and up 24% from the previous quarter. Jensen Huang, founder and CEO of NVIDIA, commented on the significant transitions the computer industry is undergoing, particularly accelerated computing and generative AI, emphasizing NVIDIA's role and advancements in these areas. During the first quarter of fiscal\n",
      "Earnings Per Share | $1.09 | $0.88 | $1.36 | Up 24% | Down 20% | ## Outlook NVIDIA’s outlook for the second quarter of fiscal 2024 includes: - **Revenue**: Expected to be $11.00 billion, plus or minus 2%. - **Gross Margins**: GAAP and non-GAAP gross margins are expected to be 68.6% and 70.0%, respectively, plus or minus 50 basis points. - **Operating Expenses**: GAAP and non-GAAP operating expenses are expected to be approximately $2.71 billion and $1.90 billion, respectively. - **Tax Rates**: GAAP and non-GAAP tax rates are expected to be 14.0%, plus or minus 1%, excluding any discrete items. ## Highlights NVIDIA has made significant progress in various areas since its last earnings announcement: ### Data Center - **First-quarter revenue** was a record $4.28 billion, up 14% from a year ago and up 18% from the previous quarter. - Launched **four inference platforms** that combine the company’s full-stack inference software with the latest NVIDIA Ada, NVIDIA Hopper™, and NVIDIA Grace Hopper™ processors. - Announced that **Google Cloud** is the first cloud provider offering\n",
      "\n",
      "Generated response:\n",
      "The provided context does not specifically explain the reasons for the year-over-year decrease in NVIDIA's Gaming revenue. It only mentions the overall financial results for the first quarter of fiscal 2024 and emphasizes the record Data Center revenue. For details on the Gaming revenue decline, further information would be needed from additional sources or sections of the report that address gaming market trends or specific challenges faced in that segment.\n",
      "\n",
      "Evaluation results:\n",
      "trustworthiness: 0.9357849849006658\n",
      "context_sufficiency: 0.04919718758749148\n",
      "response_groundedness: 0.9897250496525297\n",
      "response_helpfulness: 0.3657391057890921\n",
      "query_ease: 0.9421137103967241\n"
     ]
    }
   ],
   "source": [
    "get_answer(\"How does the report explain why NVIDIA's Gaming revenue decreased year over year?\")"
   ]
  },
  {
   "cell_type": "markdown",
   "metadata": {},
   "source": [
    "**Analysis:** The generator LLM avoids conjecture by providing a reliable response, as seen in the high `trustworthiness_score`. The low `context_sufficiency` score reflects that the retrieved context was lacking, and the response doesn’t actually answer the user’s query, as indicated by the low `response_helpfulness`."
   ]
  },
  {
   "cell_type": "markdown",
   "metadata": {},
   "source": [
    "Let’s see how our RAG system responds to another *challenging* question."
   ]
  },
  {
   "cell_type": "code",
   "execution_count": 12,
   "metadata": {},
   "outputs": [
    {
     "name": "stdout",
     "output_type": "stream",
     "text": [
      "Query:\n",
      "How much did Nvidia's revenue decrease this quarter vs last quarter, in dollars?\n",
      "\n",
      "Context:\n",
      "# NVIDIA Announces Financial Results for First Quarter Fiscal 2024 NVIDIA (NASDAQ: NVDA) today reported revenue for the first quarter ended April 30, 2023, of $7.19 billion, down 13% from a year ago and up 19% from the previous quarter. - **Quarterly revenue** of $7.19 billion, up 19% from the previous quarter - **Record Data Center revenue** of $4.28 billion - **Second quarter fiscal 2024 revenue outlook** of $11.00 billion GAAP earnings per diluted share for the quarter were $0.82, up 28% from a year ago and up 44% from the previous quarter. Non-GAAP earnings per diluted share were $1.09, down 20% from a year ago and up 24% from the previous quarter. Jensen Huang, founder and CEO of NVIDIA, commented on the significant transitions the computer industry is undergoing, particularly accelerated computing and generative AI, emphasizing NVIDIA's role and advancements in these areas. During the first quarter of fiscal\n",
      "Earnings Per Share | $1.09 | $0.88 | $1.36 | Up 24% | Down 20% | ## Outlook NVIDIA’s outlook for the second quarter of fiscal 2024 includes: - **Revenue**: Expected to be $11.00 billion, plus or minus 2%. - **Gross Margins**: GAAP and non-GAAP gross margins are expected to be 68.6% and 70.0%, respectively, plus or minus 50 basis points. - **Operating Expenses**: GAAP and non-GAAP operating expenses are expected to be approximately $2.71 billion and $1.90 billion, respectively. - **Tax Rates**: GAAP and non-GAAP tax rates are expected to be 14.0%, plus or minus 1%, excluding any discrete items. ## Highlights NVIDIA has made significant progress in various areas since its last earnings announcement: ### Data Center - **First-quarter revenue** was a record $4.28 billion, up 14% from a year ago and up 18% from the previous quarter. - Launched **four inference platforms** that combine the company’s full-stack inference software with the latest NVIDIA Ada, NVIDIA Hopper™, and NVIDIA Grace Hopper™ processors. - Announced that **Google Cloud** is the first cloud provider offering\n",
      "\n",
      "Generated response:\n",
      "NVIDIA's revenue for the first quarter ended April 30, 2023, was $7.19 billion. This was an increase of 19% from the previous quarter. To determine the revenue from the previous quarter, we can calculate it as follows:\n",
      "\n",
      "Let \\( x \\) be the revenue from the previous quarter. Therefore:\n",
      "\n",
      "\\[ x + 0.19x = 7.19 \\]\n",
      "\\[ 1.19x = 7.19 \\]\n",
      "\\[ x = \\frac{7.19}{1.19} \\]\n",
      "\\[ x \\approx 6.04 \\, \\text{billion} \\]\n",
      "\n",
      "Since the first quarter's revenue decreased by 13% from the same quarter a year ago, we are interested in comparing the revenue from the two consecutive quarters (the last quarter and the current quarter) to find how much it decreased in dollars.\n",
      "\n",
      "However, based on the information provided, we cannot determine the dollar decrease specifically this quarter versus last quarter, as the decrease in revenue is mentioned only in comparison to the same quarter from the prior year. Therefore, the percentage change is given but not the actual dollar amounts from quarter to quarter except for the quarterly revenue number. \n",
      "\n",
      "Thus, we conclude that the revenue did not decrease this quarter compared to the last quarter; instead, it increased by 19%.\n",
      "\n",
      "Evaluation results:\n",
      "trustworthiness: 0.1504851093686823\n",
      "context_sufficiency: 0.9941396094631403\n",
      "response_groundedness: 0.0194326903260912\n",
      "response_helpfulness: 0.6830779307069239\n",
      "query_ease: 0.7907314020192531\n"
     ]
    }
   ],
   "source": [
    "get_answer(\"How much did Nvidia's revenue decrease this quarter vs last quarter, in dollars?\")"
   ]
  },
  {
   "cell_type": "markdown",
   "metadata": {},
   "source": [
    "**Analysis**: The generated response incorrectly states that NVIDIA's revenue decreased this quarter, when in fact the referenced report notes a 19% increase quarter-over-quarter. \n",
    "\n",
    "Cleanlab's low trustworthiness score helps us automatically catch this incorrect RAG response in real-time!  To root-cause why this response was untrustworthy, we see the `response_groundedness` score is low, which indicates our LLM model is to blame for fabricating this false information. \n",
    "\n",
    "Let's try another one:"
   ]
  },
  {
   "cell_type": "code",
   "execution_count": 13,
   "metadata": {},
   "outputs": [
    {
     "name": "stdout",
     "output_type": "stream",
     "text": [
      "Query:\n",
      "If NVIDIA's Data Center segment maintains its Q1 FY2024 quarter-over-quarter growth rate for the next four quarters, what would be its projected annual revenue?\n",
      "\n",
      "Context:\n",
      "# NVIDIA Announces Financial Results for First Quarter Fiscal 2024 NVIDIA (NASDAQ: NVDA) today reported revenue for the first quarter ended April 30, 2023, of $7.19 billion, down 13% from a year ago and up 19% from the previous quarter. - **Quarterly revenue** of $7.19 billion, up 19% from the previous quarter - **Record Data Center revenue** of $4.28 billion - **Second quarter fiscal 2024 revenue outlook** of $11.00 billion GAAP earnings per diluted share for the quarter were $0.82, up 28% from a year ago and up 44% from the previous quarter. Non-GAAP earnings per diluted share were $1.09, down 20% from a year ago and up 24% from the previous quarter. Jensen Huang, founder and CEO of NVIDIA, commented on the significant transitions the computer industry is undergoing, particularly accelerated computing and generative AI, emphasizing NVIDIA's role and advancements in these areas. During the first quarter of fiscal\n",
      "Earnings Per Share | $1.09 | $0.88 | $1.36 | Up 24% | Down 20% | ## Outlook NVIDIA’s outlook for the second quarter of fiscal 2024 includes: - **Revenue**: Expected to be $11.00 billion, plus or minus 2%. - **Gross Margins**: GAAP and non-GAAP gross margins are expected to be 68.6% and 70.0%, respectively, plus or minus 50 basis points. - **Operating Expenses**: GAAP and non-GAAP operating expenses are expected to be approximately $2.71 billion and $1.90 billion, respectively. - **Tax Rates**: GAAP and non-GAAP tax rates are expected to be 14.0%, plus or minus 1%, excluding any discrete items. ## Highlights NVIDIA has made significant progress in various areas since its last earnings announcement: ### Data Center - **First-quarter revenue** was a record $4.28 billion, up 14% from a year ago and up 18% from the previous quarter. - Launched **four inference platforms** that combine the company’s full-stack inference software with the latest NVIDIA Ada, NVIDIA Hopper™, and NVIDIA Grace Hopper™ processors. - Announced that **Google Cloud** is the first cloud provider offering\n",
      "\n",
      "Generated response:\n",
      "In the first quarter of fiscal 2024, NVIDIA reported Data Center revenue of $4.28 billion, which was up 18% from the previous quarter. To project the annual revenue while maintaining this quarter-over-quarter growth rate of 18%, we will first calculate the revenue for each of the next four quarters and then sum them up.\n",
      "\n",
      "1. **Q1 FY2024 Revenue**: $4.28 billion (actual)\n",
      "2. **Q2 FY2024 Revenue**: $4.28 billion × (1 + 0.18) = $4.28 billion × 1.18 = $5.05 billion\n",
      "3. **Q3 FY2024 Revenue**: $5.05 billion × (1 + 0.18) = $5.05 billion × 1.18 = $5.95 billion\n",
      "4. **Q4 FY2024 Revenue**: $5.95 billion × (1 + 0.18) = $5.95 billion × 1.18 = $7.02 billion\n",
      "\n",
      "Now, we sum these revenues for the four quarters:\n",
      "- Q1: $4.28 billion\n",
      "- Q2: $5.05 billion\n",
      "- Q3: $5.95 billion\n",
      "- Q4: $7.02 billion\n",
      "\n",
      "Total projected annual revenue = $4.28 billion + $5.05 billion + $5.95 billion + $7.02 billion = $22.30 billion\n",
      "\n",
      "Thus, if NVIDIA's Data Center segment maintains its Q1 FY2024 quarter-over-quarter growth rate of 18% for the next four quarters, the projected annual revenue would be approximately **$22.30 billion**.\n",
      "\n",
      "Evaluation results:\n",
      "trustworthiness: 0.1966460063407676\n",
      "context_sufficiency: 0.3989129954171078\n",
      "response_groundedness: 0.9608102729490705\n",
      "response_helpfulness: 0.9975124323538529\n",
      "query_ease: 0.8041468851246026\n"
     ]
    }
   ],
   "source": [
    "get_answer(\"If NVIDIA's Data Center segment maintains its Q1 FY2024 quarter-over-quarter growth rate for the next four quarters, what would be its projected annual revenue?\")"
   ]
  },
  {
   "cell_type": "markdown",
   "metadata": {},
   "source": [
    "**Analysis**: Reviewing the generated response, we find it overstates (sums up the financials of Q1) the projected revenue. Again Cleanlab helps us automatically catch this incorrect response via its low `trustworthiness_score`.  Based on the additional Evals, the root cause of this issue appears to be the insufficient context given to the LLM model.\n",
    "\n",
    "**Summary**: Using Cleanlab's trustworthiness score and other real-time Evals, you can automatically catch incorrect/bad responses from your AI before they are served to users.  Options to handle these cases include:\n",
    "\n",
    "- Append a warning message at the end of the response, such as: 'Caution: This response was flagged as potentially untrustworthy.'\n",
    "- Replace the response with a fallback such as: 'Sorry I am unsure. Try rephrasing your request, or contact us'\n",
    "- Rely on the fallback and also showing your user the raw retrieved context in case it is helpful.\n",
    "- Escalate to human support, or call the LLM again with a different backup prompt."
   ]
  },
  {
   "cell_type": "markdown",
   "metadata": {},
   "source": [
    "### Custom Evals\n",
    "\n",
    "You can also specify custom evaluations to assess specific criteria, and combine them with the default evaluations for comprehensive/tailored assessment of your RAG system.\n",
    "\n",
    "For instance, here's how to create and run a custom eval that checks the conciseness of the generated response."
   ]
  },
  {
   "cell_type": "code",
   "execution_count": null,
   "metadata": {},
   "outputs": [],
   "source": [
    "safety_eval = Eval(\n",
    "    name=\"response_safety\",\n",
    "    criteria=\"Evaluate whether the AI Assistant Response strictly meets the following criteria:\\n- Does NOT offer personal financial advice or investment advice. \\n- Only discusses topics related to finance, investment, and information about companies. \\n - Uses objective language that sounds professional and non-toxic.\",\n",
    "    response_identifier=\"AI Assistant Response\"\n",
    ")\n",
    "\n",
    "# Combine default evals with a custom eval\n",
    "combined_evals = get_default_evals() + [safety_eval]\n",
    "\n",
    "# Initialize TrustworthyRAG with combined evals\n",
    "combined_trustworthy_rag = TrustworthyRAG(api_key=cleanlab_api_key, evals=combined_evals)"
   ]
  },
  {
   "cell_type": "code",
   "execution_count": 15,
   "metadata": {},
   "outputs": [
    {
     "name": "stdout",
     "output_type": "stream",
     "text": [
      "Query:\n",
      "What significant transitions did Jensen comment on?\n",
      "\n",
      "Context:\n",
      "Earnings Per Share | $1.09 | $0.88 | $1.36 | Up 24% | Down 20% | ## Outlook NVIDIA’s outlook for the second quarter of fiscal 2024 includes: - **Revenue**: Expected to be $11.00 billion, plus or minus 2%. - **Gross Margins**: GAAP and non-GAAP gross margins are expected to be 68.6% and 70.0%, respectively, plus or minus 50 basis points. - **Operating Expenses**: GAAP and non-GAAP operating expenses are expected to be approximately $2.71 billion and $1.90 billion, respectively. - **Tax Rates**: GAAP and non-GAAP tax rates are expected to be 14.0%, plus or minus 1%, excluding any discrete items. ## Highlights NVIDIA has made significant progress in various areas since its last earnings announcement: ### Data Center - **First-quarter revenue** was a record $4.28 billion, up 14% from a year ago and up 18% from the previous quarter. - Launched **four inference platforms** that combine the company’s full-stack inference software with the latest NVIDIA Ada, NVIDIA Hopper™, and NVIDIA Grace Hopper™ processors. - Announced that **Google Cloud** is the first cloud provider offering\n",
      "Cyberpunk 2077. - Expanded **GeForce NOW’s** game titles to more than 1,600, including the first Microsoft Xbox game, Gears 5. ### Professional Visualization - First-quarter revenue was $295 million, down 53% from a year ago and up 31% from the previous quarter. - Announced **NVIDIA Omniverse™ Cloud**, a fully managed service running in Microsoft Azure, for the development and deployment of industrial metaverse applications. - Expanded its collaboration with **Microsoft** to connect Microsoft 365 applications with Omniverse. - Announced **six new NVIDIA RTX™ GPUs** for mobile and desktop workstations based on the Ada architecture. ### Automotive - First-quarter revenue was a record $296 million, up 114% from a year ago and up 1% from the previous quarter. - Announced that its automotive design win pipeline has grown to **$14 billion over the next six years**, up from $11 billion a year ago. - Announced that the world’s leading electric vehicle maker **BYD** will extend its use of NVIDIA DRIVE Orin™ across new models. ## Financial Statements and Non-GAAP Measures Detailed financial statements and reconciliation of\n",
      "\n",
      "Generated response:\n",
      "Jensen Huang, NVIDIA's CEO, commented on several significant transitions during the latest earnings announcement. These include:\n",
      "\n",
      "1. **Data Center Growth**: He highlighted the robust growth in the Data Center segment, with first-quarter revenue reaching a record $4.28 billion, which reflects a substantial increase from the previous year and quarter. The launch of new inference platforms also signifies a strong transition towards advanced AI capabilities.\n",
      "\n",
      "2. **Automotive Sector Expansion**: Jensen noted the remarkable growth in the Automotive segment, with revenue up 114% year-over-year and significant design wins, increasing the automotive design win pipeline to $14 billion over the next six years.\n",
      "\n",
      "3. **Professional Visualization Initiatives**: He pointed out the efforts to transition towards more collaborative and immersive tools with the introduction of NVIDIA Omniverse™ Cloud, aimed at developing industrial metaverse applications and facilitating better integration with Microsoft applications.\n",
      "\n",
      "These comments demonstrate NVIDIA's strategic focus on expanding its presence across various high-growth areas, especially in data centers and the automotive market, as well as enhancing professional visualization capabilities.\n",
      "\n",
      "Evaluation results:\n",
      "trustworthiness: 0.5886183124248148\n",
      "context_sufficiency: 0.1332032334993802\n",
      "response_groundedness: 0.9974289906453996\n",
      "response_helpfulness: 0.9975107058433179\n",
      "query_ease: 0.526608225310627\n",
      "response_safety: 0.9823494672098730\n"
     ]
    }
   ],
   "source": [
    "get_answer(\"What significant transitions did Jensen comment on?\", evaluator=combined_trustworthy_rag)"
   ]
  },
  {
   "cell_type": "markdown",
   "metadata": {},
   "source": [
    "### Replace your LLM with Cleanlab's\n",
    "\n",
    "Beyond evaluating responses already generated from your LLM, Cleanlab can also generate responses and evaluate them simultaneously (using one of many [supported models](https://help.cleanlab.ai/tlm/api/python/tlm/#class-tlmoptions)). <br />\n",
    "This replaces your own LLM within your RAG system and can be more convenient/accurate/faster.\n",
    "\n",
    "Let's replace OpenAI LLM with a line to call Cleanlab's endpoint instead:"
   ]
  },
  {
   "cell_type": "code",
   "execution_count": 16,
   "metadata": {},
   "outputs": [
    {
     "name": "stdout",
     "output_type": "stream",
     "text": [
      "Query:\n",
      "How much did Nvidia's revenue decrease this quarter vs last quarter, in dollars?\n",
      "\n",
      "Context:\n",
      "# NVIDIA Announces Financial Results for First Quarter Fiscal 2024 NVIDIA (NASDAQ: NVDA) today reported revenue for the first quarter ended April 30, 2023, of $7.19 billion, down 13% from a year ago and up 19% from the previous quarter. - **Quarterly revenue** of $7.19 billion, up 19% from the previous quarter - **Record Data Center revenue** of $4.28 billion - **Second quarter fiscal 2024 revenue outlook** of $11.00 billion GAAP earnings per diluted share for the quarter were $0.82, up 28% from a year ago and up 44% from the previous quarter. Non-GAAP earnings per diluted share were $1.09, down 20% from a year ago and up 24% from the previous quarter. Jensen Huang, founder and CEO of NVIDIA, commented on the significant transitions the computer industry is undergoing, particularly accelerated computing and generative AI, emphasizing NVIDIA's role and advancements in these areas. During the first quarter of fiscal\n",
      "Earnings Per Share | $1.09 | $0.88 | $1.36 | Up 24% | Down 20% | ## Outlook NVIDIA’s outlook for the second quarter of fiscal 2024 includes: - **Revenue**: Expected to be $11.00 billion, plus or minus 2%. - **Gross Margins**: GAAP and non-GAAP gross margins are expected to be 68.6% and 70.0%, respectively, plus or minus 50 basis points. - **Operating Expenses**: GAAP and non-GAAP operating expenses are expected to be approximately $2.71 billion and $1.90 billion, respectively. - **Tax Rates**: GAAP and non-GAAP tax rates are expected to be 14.0%, plus or minus 1%, excluding any discrete items. ## Highlights NVIDIA has made significant progress in various areas since its last earnings announcement: ### Data Center - **First-quarter revenue** was a record $4.28 billion, up 14% from a year ago and up 18% from the previous quarter. - Launched **four inference platforms** that combine the company’s full-stack inference software with the latest NVIDIA Ada, NVIDIA Hopper™, and NVIDIA Grace Hopper™ processors. - Announced that **Google Cloud** is the first cloud provider offering\n",
      "\n"
     ]
    }
   ],
   "source": [
    "query = \"How much did Nvidia's revenue decrease this quarter vs last quarter, in dollars?\"\n",
    "\n",
    "print(f\"Query:\\n{query}\\n\")\n",
    "\n",
    "retrieved_chunks = get_relevant_chunks(query)\n",
    "\n",
    "# Create context from the chunks\n",
    "context = create_context(retrieved_chunks)\n",
    "print(context)"
   ]
  },
  {
   "cell_type": "code",
   "execution_count": null,
   "metadata": {},
   "outputs": [
    {
     "name": "stdout",
     "output_type": "stream",
     "text": [
      "Generated Response:\n",
      "NVIDIA's revenue for the first quarter was $7.19 billion, and it was reported that this revenue was up 19% from the previous quarter. To find the revenue for the previous quarter, we can calculate it as follows:\n",
      "\n",
      "Let \\( x \\) be the revenue from the previous quarter. According to the information provided:\n",
      "\n",
      "\\[ 7.19 = x \\times (1 + 0.19) \\]\n",
      "\n",
      "This simplifies to:\n",
      "\n",
      "\\[ 7.19 = x \\times 1.19 \\]\n",
      "\n",
      "Now, solving for \\( x \\):\n",
      "\n",
      "\\[ x = \\frac{7.19}{1.19} \\approx 6.03 \\text{ billion} \\]\n",
      "\n",
      "Now, to find the decrease in revenue from the previous quarter to this quarter, we can calculate:\n",
      "\n",
      "\\[ 6.03 - 7.19 = -1.16 \\text{ billion} \\]\n",
      "\n",
      "Since the revenue increased, there is no decrease in revenue this quarter compared to the last quarter. Instead, NVIDIA's revenue increased by approximately $1.16 billion from the previous quarter.\n",
      "\n",
      "Evaluation Scores:\n",
      "trustworthiness: 0.21879179647731697\n",
      "context_sufficiency: 0.9954583200117453\n",
      "response_groundedness: 0.03795534834389774\n",
      "response_helpfulness: 0.9930061134712794\n",
      "query_ease: 0.7907330002643796\n"
     ]
    }
   ],
   "source": [
    "user_prompt = f\"\"\"\n",
    "## Context:\n",
    "{context}\n",
    "\n",
    "## Customer Question:\n",
    "{query}\n",
    "\"\"\"\n",
    "\n",
    "# Generate the answer using LLM\n",
    "result = trustworthy_rag.generate(\n",
    "    query=query,\n",
    "    context=context,\n",
    "    prompt=system_prompt + user_prompt\n",
    ")\n",
    "\n",
    "print(f\"Generated Response:\\n{result['response']}\\n\")\n",
    "print(\"Evaluation Scores:\")\n",
    "for metric, value in result.items():\n",
    "    if metric != \"response\":\n",
    "        print(f\"{metric}: {value['score']}\")"
   ]
  },
  {
   "cell_type": "markdown",
   "metadata": {},
   "source": [
    "While it remains hard to achieve a RAG application that will accurately answer *any* possible question, you can easily use MongoDB and Cleanlab to deploy a *trustworthy* RAG application which at least flags inaccurate answers in real-time. This enables your application to prevent untrustworthy responses from being served to your users. Learn more about optional configurations you can adjust to improve accuracy/latency in the [Cleanlab documentation](https://help.cleanlab.ai/tlm/)."
   ]
  }
 ],
 "metadata": {
  "kernelspec": {
   "display_name": "cl",
   "language": "python",
   "name": "python3"
  },
  "language_info": {
   "codemirror_mode": {
    "name": "ipython",
    "version": 3
   },
   "file_extension": ".py",
   "mimetype": "text/x-python",
   "name": "python",
   "nbconvert_exporter": "python",
   "pygments_lexer": "ipython3",
   "version": "3.9.6"
  }
 },
 "nbformat": 4,
 "nbformat_minor": 2
}
