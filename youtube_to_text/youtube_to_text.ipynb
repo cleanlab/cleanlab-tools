{
 "cells": [
  {
   "cell_type": "code",
   "execution_count": 33,
   "id": "4ac3e88a-b0bd-4e1a-b313-0cd6291c68ca",
   "metadata": {},
   "outputs": [],
   "source": [
    "from openai import OpenAI\n",
    "import subprocess\n",
    "import os\n",
    "OPENAI_API_KEY = open('openai-key.txt', 'r').read().strip()\n",
    "client = OpenAI(api_key=OPENAI_API_KEY)"
   ]
  },
  {
   "cell_type": "code",
   "execution_count": 32,
   "id": "435127e4-0419-4bc3-979e-3ab27c5edec1",
   "metadata": {},
   "outputs": [],
   "source": [
    "# Helper to get video title from url\n",
    "def fetch_video_title(url):\n",
    "    command = [\"yt-dlp\", \"--get-title\", url]\n",
    "    result = subprocess.run(command, capture_output=True, text=True, check=True)\n",
    "    return result.stdout.strip()\n",
    "\n",
    "# Helper to get audio from video url\n",
    "def download_audio(url, save_dir, output_name):\n",
    "    command = [\"yt-dlp\", \"--extract-audio\", \"--audio-format\", \"mp3\", \"-o\", f\"{save_dir}{output_name}.mp3\", url]\n",
    "    subprocess.run(command, check=True)\n",
    "\n",
    "# Helper to trascribe audio file to txt file using OpenAI Whisper, writes to save_dir\n",
    "def transcribe_all_audio_files(read_dir, save_dir):\n",
    "    # Iterate over all MP3 files in the audio directory\n",
    "    for filename in os.listdir(read_dir):\n",
    "        if filename.endswith(\".mp3\"):\n",
    "            audio_file_path = os.path.join(read_dir, filename)\n",
    "            with open(audio_file_path, \"rb\") as audio_file:\n",
    "                print(f\"Transcribing {filename}...\")\n",
    "                # Transcribe the audio file using OpenAI Whisper API\n",
    "                transcription = client.audio.transcriptions.create(\n",
    "                    model=\"whisper-1\",\n",
    "                    file=audio_file\n",
    "                )\n",
    "                # Save the transcription to a text file in save_dir\n",
    "                output_text_file = os.path.join(save_dir, f\"{os.path.splitext(filename)[0]}.txt\")\n",
    "                with open(output_text_file, \"w\") as text_file:\n",
    "                    text_file.write(transcription.text)"
   ]
  },
  {
   "cell_type": "code",
   "execution_count": 30,
   "id": "292b7970-e9e2-4bd4-bc85-bc58e542b24b",
   "metadata": {},
   "outputs": [],
   "source": [
    "# Directories where audio files are located and where you want the transcription saved \n",
    "read_dir = \"audio/\"\n",
    "save_dir = \"text/\"\n",
    "\n",
    "# List of YouTube URLSs you want to scrape audio from\n",
    "youtube_urls = [\n",
    "    \"https://www.youtube.com/watch?v=N1Vb2QkeUaw\",\n",
    "    \"https://www.youtube.com/watch?v=phoIkpFRDak\",\n",
    "    \"https://www.youtube.com/watch?v=soQ2MB0O6bo\",\n",
    "    \"https://www.youtube.com/watch?v=wOJaB2YbiNg\",\n",
    "    \"https://www.youtube.com/watch?v=k88OIWJENgE\",\n",
    "    \"https://www.youtube.com/watch?v=cmbYYM266eY\",\n",
    "    \"https://www.youtube.com/watch?v=OUYhOP8xoSI\",\n",
    "    \"https://www.youtube.com/watch?v=5xBH8jaLv9E\",\n",
    "    \"https://www.youtube.com/watch?v=e9dgmBS4i7w\",\n",
    "    \"https://www.youtube.com/watch?v=4A0A5OtlRP8\"\n",
    "]\n",
    "\n",
    "# Download audio from each of the youtube_urls\n",
    "for url in youtube_urls:\n",
    "    title = fetch_video_title(url)\n",
    "    filename_noext = \"_\".join(title.split()[:5])\n",
    "    download_audio(url, save_dir, filename_noext)"
   ]
  },
  {
   "cell_type": "code",
   "execution_count": 31,
   "id": "2de44377-4066-480f-b17f-8d4e9f3598ad",
   "metadata": {},
   "outputs": [
    {
     "name": "stdout",
     "output_type": "stream",
     "text": [
      "Transcribing How_to_Print_from_a.mp3...\n",
      "Transcription for How_to_Print_from_a.mp3 saved as text/How_to_Print_from_a.txt\n"
     ]
    }
   ],
   "source": [
    "# Run transcription for all files in the read_dir directory\n",
    "transcribe_all_audio_files(read_dir, save_dir)"
   ]
  }
 ],
 "metadata": {
  "kernelspec": {
   "display_name": "Python 3 (ipykernel)",
   "language": "python",
   "name": "python3"
  },
  "language_info": {
   "codemirror_mode": {
    "name": "ipython",
    "version": 3
   },
   "file_extension": ".py",
   "mimetype": "text/x-python",
   "name": "python",
   "nbconvert_exporter": "python",
   "pygments_lexer": "ipython3",
   "version": "3.12.6"
  }
 },
 "nbformat": 4,
 "nbformat_minor": 5
}
