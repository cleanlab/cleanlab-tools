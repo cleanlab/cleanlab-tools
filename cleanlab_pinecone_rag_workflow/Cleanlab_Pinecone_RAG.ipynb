{
 "cells": [
  {
   "cell_type": "markdown",
   "id": "075f77c1-3328-4265-b077-160d496eb048",
   "metadata": {},
   "source": [
    "# How to build a reliable, curated, and accurate RAG system using Cleanlab and Pinecone"
   ]
  },
  {
   "cell_type": "code",
   "execution_count": 1,
   "id": "c70303b2-ce6f-4a03-a460-38bd27e8ae9b",
   "metadata": {},
   "outputs": [],
   "source": [
    "import pandas as pd\n",
    "from sentence_transformers import SentenceTransformer\n",
    "from sklearn.metrics.pairwise import cosine_similarity\n",
    "import numpy as np\n",
    "import time\n",
    "from IPython.display import display, HTML\n",
    "import warnings\n",
    "import matplotlib.pyplot as plt\n",
    "import os\n",
    "from pinecone import Pinecone, ServerlessSpec\n",
    "\n",
    "warnings.simplefilter(action='ignore', category=FutureWarning)"
   ]
  },
  {
   "cell_type": "code",
   "execution_count": 2,
   "id": "c7ff0b6b-3a2b-4e6a-a41a-b0f7a54e32d2",
   "metadata": {},
   "outputs": [],
   "source": [
    "os.environ[\"PINECONE_API_KEY\"] = \"\""
   ]
  },
  {
   "cell_type": "code",
   "execution_count": 3,
   "id": "9be83ca1-be78-4fa9-9b85-fd420d0f8066",
   "metadata": {
    "id": "xc4UelXId0yB"
   },
   "outputs": [],
   "source": [
    "api_key = os.environ.get(\"PINECONE_API_KEY\")\n",
    "\n",
    "# configure client\n",
    "pc = Pinecone(api_key=api_key)"
   ]
  },
  {
   "cell_type": "markdown",
   "id": "e7183c0f-c96f-4335-bc48-d474628dbe30",
   "metadata": {
    "id": "iMSW1p7td0yB"
   },
   "source": [
    "Now we setup our index specification, this allows us to define the cloud provider and region where we want to deploy our index. You can find a list of all [available providers and regions here](https://docs.pinecone.io/docs/projects)."
   ]
  },
  {
   "cell_type": "code",
   "execution_count": 4,
   "id": "28911e33-870c-4150-8bb8-e12f3352b9e2",
   "metadata": {
    "id": "KpRYFxYXd0yB"
   },
   "outputs": [],
   "source": [
    "cloud = os.environ.get('PINECONE_CLOUD') or 'aws'\n",
    "region = os.environ.get('PINECONE_REGION') or 'us-east-1'\n",
    "\n",
    "spec = ServerlessSpec(cloud=cloud, region=region)"
   ]
  },
  {
   "cell_type": "code",
   "execution_count": 5,
   "id": "4e3d39bd-4726-4bf6-a016-aa0b136936f8",
   "metadata": {},
   "outputs": [],
   "source": [
    "class PineconeRAGPipeline:\n",
    "    def __init__(self, model_name='paraphrase-MiniLM-L6-v2', index_name='document-index', cloud='aws', region='us-east-1'):\n",
    "        self.model = SentenceTransformer(model_name)\n",
    "        self.pc = Pinecone(api_key=os.environ.get('PINECONE_API_KEY'))\n",
    "        self.index_name = index_name\n",
    "        \n",
    "        # Check if the index already exists\n",
    "        existing_indexes = self.pc.list_indexes()\n",
    "        \n",
    "        if self.index_name not in existing_indexes:\n",
    "            try:\n",
    "                print(f\"Creating new index: {self.index_name}\")\n",
    "                self.pc.create_index(\n",
    "                    name=self.index_name,\n",
    "                    dimension=self.model.get_sentence_embedding_dimension(),\n",
    "                    metric='cosine',\n",
    "                    spec=ServerlessSpec(cloud=cloud, region=region)\n",
    "                )\n",
    "            except Exception as e:\n",
    "                if \"ALREADY_EXISTS\" in str(e):\n",
    "                    print(f\"Index {self.index_name} already exists. Connecting to existing index.\")\n",
    "                else:\n",
    "                    raise e\n",
    "        else:\n",
    "            print(f\"Index {self.index_name} already exists. Connecting to existing index.\")\n",
    "        \n",
    "        # Connect to the index\n",
    "        self.index = self.pc.Index(self.index_name)\n",
    "\n",
    "    def index_documents(self, df):\n",
    "        \"\"\"\n",
    "        Index documents from a DataFrame with specific metadata structure.\n",
    "        \n",
    "        :param df: DataFrame containing document information and metadata.\n",
    "        \"\"\"\n",
    "        valid_docs = []\n",
    "        valid_metadata = []\n",
    "\n",
    "        for _, row in df.iterrows():\n",
    "            if pd.isna(row['text']) or pd.isna(row['filename']) or pd.isna(row['topic']):\n",
    "                print(f\"Skipping invalid document: {row['filename']}\")\n",
    "                continue\n",
    "            \n",
    "            # doc = str(row['text'])[:5000]  # Limit to 5000 characters\n",
    "                        \n",
    "            doc = str(row['text'])\n",
    "            metadata = {\n",
    "                'filename': row['filename'],\n",
    "                'topic': row['topic'],\n",
    "                'quality': row['quality'] if not pd.isna(row['quality']) else 'unknown'\n",
    "            }\n",
    "            \n",
    "            valid_docs.append(doc)\n",
    "            valid_metadata.append(metadata)\n",
    "\n",
    "        if not valid_docs:\n",
    "            print(\"No valid documents to index.\")\n",
    "            return\n",
    "\n",
    "        doc_embeddings = self.model.encode(valid_docs)\n",
    "        \n",
    "        batch_size = 100  # Adjust this based on your needs\n",
    "        for i in range(0, len(valid_docs), batch_size):\n",
    "            batch_docs = valid_docs[i:i+batch_size]\n",
    "            batch_metadata = valid_metadata[i:i+batch_size]\n",
    "            batch_embeddings = doc_embeddings[i:i+batch_size]\n",
    "            \n",
    "            vectors = [\n",
    "                (f'doc_{i+j}', embedding.tolist(), {**metadata, 'text': doc[:1000]})\n",
    "                for j, (doc, embedding, metadata) in enumerate(zip(batch_docs, batch_embeddings, batch_metadata))\n",
    "            ]\n",
    "            \n",
    "            try:\n",
    "                self.index.upsert(vectors=vectors)\n",
    "                print(f\"Successfully indexed batch of {len(vectors)} documents.\")\n",
    "            except Exception as e:\n",
    "                print(f\"Error during upsert: {e}\")\n",
    "\n",
    "    def search(self, query, top_k=5, filter_query=None):\n",
    "        \"\"\"\n",
    "        Search for the top_k most relevant documents based on the input query and optional filter.\n",
    "        \n",
    "        :param query: The search query text.\n",
    "        :param top_k: The number of top relevant documents to return.\n",
    "        :param filter_query: Optional filter query to apply during search.\n",
    "        :return: List of top_k relevant document texts and their metadata.\n",
    "        \"\"\"\n",
    "        query_embedding = self.model.encode(query)\n",
    "        \n",
    "        try:\n",
    "            results = self.index.query(\n",
    "                vector=query_embedding.tolist(),\n",
    "                top_k=top_k,\n",
    "                filter=filter_query,\n",
    "                include_metadata=True\n",
    "            )\n",
    "            \n",
    "            return [(match.metadata['text'], {k: v for k, v in match.metadata.items() if k != 'text'}) for match in results.matches]\n",
    "        except Exception as e:\n",
    "            print(f\"Error during search: {e}\")\n",
    "            return []\n",
    "\n",
    "    def delete_index(self):\n",
    "        \"\"\"\n",
    "        Delete the Pinecone index.\n",
    "        \"\"\"\n",
    "        try:\n",
    "            self.pc.delete_index(self.index_name)\n",
    "            print(f\"Index '{self.index_name}' has been deleted.\")\n",
    "        except Exception as e:\n",
    "            print(f\"Error deleting index: {e}\")"
   ]
  },
  {
   "cell_type": "markdown",
   "id": "2bf9ee9f-255f-4709-b72c-f81ea118c81a",
   "metadata": {},
   "source": [
    "## Load Documents Data"
   ]
  },
  {
   "cell_type": "code",
   "execution_count": 6,
   "id": "e1c344e8-5feb-447f-a9a5-0490c4b27bb1",
   "metadata": {},
   "outputs": [
    {
     "name": "stdout",
     "output_type": "stream",
     "text": [
      "(139, 5)\n",
      "The columns in our documents data are: ['index', 'filename', 'topic', 'quality', 'text']\n"
     ]
    }
   ],
   "source": [
    "# Read in dataset\n",
    "df = pd.read_csv(\"document-curation-RAG.csv\")\n",
    "print(df.shape)\n",
    "\n",
    "document_data_columns = list(df.columns)\n",
    "print(f\"The columns in our documents data are: {document_data_columns}\")"
   ]
  },
  {
   "cell_type": "markdown",
   "id": "69f026d6-fc2d-4b9a-ac5d-eb227ec9462b",
   "metadata": {},
   "source": [
    "## Analyze Documents Data"
   ]
  },
  {
   "cell_type": "code",
   "execution_count": 7,
   "id": "11be0bf8-8eaf-4ff5-af0e-e69a415b01e5",
   "metadata": {},
   "outputs": [
    {
     "name": "stdout",
     "output_type": "stream",
     "text": [
      "Summary Statistics of Text Length:\n",
      "count       139.00000\n",
      "mean       9474.00000\n",
      "std       18093.41533\n",
      "min           0.00000\n",
      "25%        1776.50000\n",
      "50%        3727.00000\n",
      "75%        8104.00000\n",
      "max      143918.00000\n",
      "Name: text_length, dtype: float64\n"
     ]
    },
    {
     "data": {
      "image/png": "[encoded data removed]",
      "text/plain": [
       "<Figure size 1000x600 with 1 Axes>"
      ]
     },
     "metadata": {},
     "output_type": "display_data"
    },
    {
     "data": {
      "image/png": "[encoded data removed]",
      "text/plain": [
       "<Figure size 1000x600 with 1 Axes>"
      ]
     },
     "metadata": {},
     "output_type": "display_data"
    }
   ],
   "source": [
    "# Calculate the length of the text in the 'text' column\n",
    "df['text_length'] = df['text'].apply(lambda x: len(x) if pd.notnull(x) else 0)\n",
    "\n",
    "# Summary statistics\n",
    "length_stats = df['text_length'].describe()\n",
    "print(\"Summary Statistics of Text Length:\")\n",
    "print(length_stats)\n",
    "\n",
    "# Plotting the distribution of text lengths\n",
    "plt.figure(figsize=(10, 6))\n",
    "plt.hist(df['text_length'], bins=20, color='blue', alpha=0.7)\n",
    "plt.title('Distribution of Text Lengths')\n",
    "plt.xlabel('Text Length')\n",
    "plt.ylabel('Frequency')\n",
    "plt.grid(True)\n",
    "plt.show()\n",
    "\n",
    "# Optional: plot a boxplot to see the distribution with outliers\n",
    "plt.figure(figsize=(10, 6))\n",
    "plt.boxplot(df['text_length'], vert=False)\n",
    "plt.title('Boxplot of Text Lengths')\n",
    "plt.xlabel('Text Length')\n",
    "plt.grid(True)\n",
    "plt.show()"
   ]
  },
  {
   "cell_type": "code",
   "execution_count": 8,
   "id": "b4e566c0-c9f1-4d2e-8fdf-ba52cf155495",
   "metadata": {},
   "outputs": [
    {
     "name": "stdout",
     "output_type": "stream",
     "text": [
      "\n",
      "Missing Values in Each Column:\n",
      "index            0\n",
      "filename         0\n",
      "topic            0\n",
      "quality        103\n",
      "text             3\n",
      "text_length      0\n",
      "dtype: int64\n",
      "\n",
      "Quality Column Distribution:\n",
      "quality\n",
      "NaN     103\n",
      "good     18\n",
      "bad      18\n",
      "Name: count, dtype: int64\n",
      "\n",
      "Quality Distribution per Topic:\n",
      "quality  bad  good\n",
      "topic             \n",
      "finance    2     6\n",
      "hr         2     5\n",
      "it         9     1\n",
      "product    2     3\n",
      "sales      3     3\n"
     ]
    }
   ],
   "source": [
    "# Analyze missing values\n",
    "missing_values = df.isnull().sum()\n",
    "print(f\"\\nMissing Values in Each Column:\\n{missing_values}\")\n",
    "\n",
    "# Analyze the 'quality' column\n",
    "quality_counts = df['quality'].value_counts(dropna=False)\n",
    "print(f\"\\nQuality Column Distribution:\\n{quality_counts}\")\n",
    "\n",
    "# Quality distribution per topic\n",
    "quality_topic_distribution = df.pivot_table(index='topic', columns='quality', aggfunc='size', fill_value=0)\n",
    "print(f\"\\nQuality Distribution per Topic:\\n{quality_topic_distribution}\")"
   ]
  },
  {
   "cell_type": "markdown",
   "id": "a867163e-9f41-46b8-9dca-055e5593f6bc",
   "metadata": {},
   "source": [
    "## Use Cleanlab Studio to ensure there is no PII, duplicates, non-English text, or toxic language in our documents"
   ]
  },
  {
   "cell_type": "code",
   "execution_count": 9,
   "id": "629b7d20-8e85-4476-94fe-c00c90a56f94",
   "metadata": {},
   "outputs": [],
   "source": [
    "from cleanlab_studio import Studio\n",
    "\n",
    "API_KEY = \"\"\n",
    "studio = Studio(API_KEY)"
   ]
  },
  {
   "cell_type": "markdown",
   "id": "b7be24fe-070b-4879-8345-4993b052d958",
   "metadata": {},
   "source": [
    "### Ingest our documents data into Cleanlab Studio"
   ]
  },
  {
   "cell_type": "code",
   "execution_count": 23,
   "id": "70da45d4-b0e6-4aed-9ff5-702bd9341538",
   "metadata": {},
   "outputs": [
    {
     "name": "stderr",
     "output_type": "stream",
     "text": [
      "Uploading dataset...: 100%|████████████████████████████████████████████████████████████████████████████████████████████|\n",
      "Ingesting Dataset...: 100%|████████████████████████████████████████████████████████████████████████████████████████████|"
     ]
    },
    {
     "name": "stdout",
     "output_type": "stream",
     "text": [
      "Dataset ID: 39ebcf90203143e7aee5d1543efa3579\n"
     ]
    },
    {
     "name": "stderr",
     "output_type": "stream",
     "text": [
      "\n"
     ]
    }
   ],
   "source": [
    "dataset_id = studio.upload_dataset(\n",
    "    df,\n",
    "    dataset_name=\"cleanlab_pinecone_RAG_documents\"\n",
    ")\n",
    "print(f\"Dataset ID: {dataset_id}\")"
   ]
  },
  {
   "cell_type": "markdown",
   "id": "b5fc6210-7949-42c8-84ff-c2e56578ba9d",
   "metadata": {},
   "source": [
    "### Launch a Cleanlab Studio Project using our documents data to analyze the text"
   ]
  },
  {
   "cell_type": "code",
   "execution_count": 16,
   "id": "ed715976-dad7-497c-94df-cbe2f4ba48e4",
   "metadata": {},
   "outputs": [],
   "source": [
    "text_column = \"text\""
   ]
  },
  {
   "cell_type": "code",
   "execution_count": 25,
   "id": "df356f36-dc48-4f9e-82be-413343fee3fc",
   "metadata": {},
   "outputs": [
    {
     "name": "stdout",
     "output_type": "stream",
     "text": [
      "Project successfully created and training has begun! project_id: acda265579014b96b5e554c4eea587ae\n"
     ]
    }
   ],
   "source": [
    "project_id = studio.create_project(\n",
    "    dataset_id=dataset_id,\n",
    "    project_name=\"Cleanlab Pinecone RAG Documents Project\",\n",
    "    modality=\"text\",\n",
    "    task_type=\"unsupervised\",\n",
    "    model_type=\"regular\",  # text issue detection is currently only available in Regular mode\n",
    "    label_column=None,\n",
    "    text_column=text_column\n",
    ")\n",
    "print(f\"Project successfully created and training has begun! project_id: {project_id}\")"
   ]
  },
  {
   "cell_type": "code",
   "execution_count": 26,
   "id": "ba7d6cfe-0b56-4af2-8a91-65cea0d778ba",
   "metadata": {},
   "outputs": [
    {
     "name": "stderr",
     "output_type": "stream",
     "text": [
      "Cleanset Progress: \\ Step 25/25, Ready for review!\n"
     ]
    }
   ],
   "source": [
    "cleanset_id = studio.get_latest_cleanset_id(project_id)\n",
    "project_status = studio.wait_until_cleanset_ready(cleanset_id)"
   ]
  },
  {
   "cell_type": "code",
   "execution_count": 12,
   "id": "bdde109f-d652-40f0-b564-7b41805efdb4",
   "metadata": {},
   "outputs": [],
   "source": [
    "# Download cleanlab columns from text project\n",
    "cleanlab_columns = studio.download_cleanlab_columns(cleanset_id)"
   ]
  },
  {
   "cell_type": "code",
   "execution_count": 13,
   "id": "fd481b2b-7f3b-4d96-a3e7-50d24bbc5d17",
   "metadata": {},
   "outputs": [
    {
     "name": "stdout",
     "output_type": "stream",
     "text": [
      "Index(['cleanlab_row_ID', 'is_near_duplicate', 'near_duplicate_score',\n",
      "       'near_duplicate_cluster_id', 'is_outlier', 'outlier_score',\n",
      "       'is_empty_text', 'text_num_characters', 'is_PII', 'PII_score',\n",
      "       'PII_types', 'PII_items', 'is_informal', 'informal_score',\n",
      "       'spelling_issue_score', 'grammar_issue_score', 'slang_issue_score',\n",
      "       'is_non_english', 'non_english_score', 'predicted_language', 'is_toxic',\n",
      "       'toxic_score', 'sentiment_score', 'bias_score', 'is_biased',\n",
      "       'gender_bias_score', 'racial_bias_score',\n",
      "       'sexual_orientation_bias_score'],\n",
      "      dtype='object')\n"
     ]
    }
   ],
   "source": [
    "print(cleanlab_columns.columns)"
   ]
  },
  {
   "cell_type": "markdown",
   "id": "e34b66e4-4174-438c-802e-39d72a47c256",
   "metadata": {},
   "source": [
    "## Check for issues detected by Cleanlab Studio in our documents data"
   ]
  },
  {
   "cell_type": "code",
   "execution_count": 17,
   "id": "a4fb647a-71a5-48a8-b5e7-23c2c8c99500",
   "metadata": {},
   "outputs": [
    {
     "data": {
      "text/html": [
       "<div>\n",
       "<style scoped>\n",
       "    .dataframe tbody tr th:only-of-type {\n",
       "        vertical-align: middle;\n",
       "    }\n",
       "\n",
       "    .dataframe tbody tr th {\n",
       "        vertical-align: top;\n",
       "    }\n",
       "\n",
       "    .dataframe thead th {\n",
       "        text-align: right;\n",
       "    }\n",
       "</style>\n",
       "<table border=\"1\" class=\"dataframe\">\n",
       "  <thead>\n",
       "    <tr style=\"text-align: right;\">\n",
       "      <th></th>\n",
       "      <th>index</th>\n",
       "      <th>filename</th>\n",
       "      <th>topic</th>\n",
       "      <th>quality</th>\n",
       "      <th>text</th>\n",
       "      <th>text_length</th>\n",
       "      <th>cleanlab_row_ID</th>\n",
       "      <th>is_near_duplicate</th>\n",
       "      <th>near_duplicate_score</th>\n",
       "      <th>near_duplicate_cluster_id</th>\n",
       "      <th>...</th>\n",
       "      <th>non_english_score</th>\n",
       "      <th>predicted_language</th>\n",
       "      <th>is_toxic</th>\n",
       "      <th>toxic_score</th>\n",
       "      <th>sentiment_score</th>\n",
       "      <th>bias_score</th>\n",
       "      <th>is_biased</th>\n",
       "      <th>gender_bias_score</th>\n",
       "      <th>racial_bias_score</th>\n",
       "      <th>sexual_orientation_bias_score</th>\n",
       "    </tr>\n",
       "  </thead>\n",
       "  <tbody>\n",
       "    <tr>\n",
       "      <th>0</th>\n",
       "      <td>1</td>\n",
       "      <td>documents/Blackstone-Third-Quarter-2023-Invest...</td>\n",
       "      <td>finance</td>\n",
       "      <td>good</td>\n",
       "      <td>Blackstone Third Quarter 2023 Investor Call Oc...</td>\n",
       "      <td>59328</td>\n",
       "      <td>1</td>\n",
       "      <td>False</td>\n",
       "      <td>0.369557</td>\n",
       "      <td>&lt;NA&gt;</td>\n",
       "      <td>...</td>\n",
       "      <td>0.039626</td>\n",
       "      <td>&lt;NA&gt;</td>\n",
       "      <td>False</td>\n",
       "      <td>0.181357</td>\n",
       "      <td>0.734437</td>\n",
       "      <td>0.231685</td>\n",
       "      <td>False</td>\n",
       "      <td>0.0</td>\n",
       "      <td>0.231685</td>\n",
       "      <td>0.000024</td>\n",
       "    </tr>\n",
       "    <tr>\n",
       "      <th>1</th>\n",
       "      <td>2</td>\n",
       "      <td>documents/8k-nike.pdf</td>\n",
       "      <td>finance</td>\n",
       "      <td>good</td>\n",
       "      <td>SECURITIES AND EXCHANGE COMMISSIONFORM 8-K Cur...</td>\n",
       "      <td>32855</td>\n",
       "      <td>2</td>\n",
       "      <td>False</td>\n",
       "      <td>0.366482</td>\n",
       "      <td>&lt;NA&gt;</td>\n",
       "      <td>...</td>\n",
       "      <td>0.559182</td>\n",
       "      <td>&lt;NA&gt;</td>\n",
       "      <td>False</td>\n",
       "      <td>0.131032</td>\n",
       "      <td>0.663306</td>\n",
       "      <td>0.236311</td>\n",
       "      <td>False</td>\n",
       "      <td>0.0</td>\n",
       "      <td>0.236311</td>\n",
       "      <td>0.000080</td>\n",
       "    </tr>\n",
       "    <tr>\n",
       "      <th>2</th>\n",
       "      <td>3</td>\n",
       "      <td>documents/04-FY24-Q1-NIKE-Press-Release.pdf</td>\n",
       "      <td>finance</td>\n",
       "      <td>good</td>\n",
       "      <td>Investor Contact:Media Contact:Paul TrussellVi...</td>\n",
       "      <td>12599</td>\n",
       "      <td>3</td>\n",
       "      <td>False</td>\n",
       "      <td>0.296951</td>\n",
       "      <td>&lt;NA&gt;</td>\n",
       "      <td>...</td>\n",
       "      <td>0.073851</td>\n",
       "      <td>&lt;NA&gt;</td>\n",
       "      <td>False</td>\n",
       "      <td>0.174005</td>\n",
       "      <td>0.624429</td>\n",
       "      <td>0.252296</td>\n",
       "      <td>False</td>\n",
       "      <td>0.0</td>\n",
       "      <td>0.252296</td>\n",
       "      <td>0.000005</td>\n",
       "    </tr>\n",
       "    <tr>\n",
       "      <th>3</th>\n",
       "      <td>4</td>\n",
       "      <td>documents/10-K 2022-Apple2.pdf</td>\n",
       "      <td>finance</td>\n",
       "      <td>good</td>\n",
       "      <td>The future principal payments for the Company’...</td>\n",
       "      <td>7346</td>\n",
       "      <td>4</td>\n",
       "      <td>False</td>\n",
       "      <td>0.558332</td>\n",
       "      <td>&lt;NA&gt;</td>\n",
       "      <td>...</td>\n",
       "      <td>0.074378</td>\n",
       "      <td>&lt;NA&gt;</td>\n",
       "      <td>False</td>\n",
       "      <td>0.082228</td>\n",
       "      <td>0.722761</td>\n",
       "      <td>0.246289</td>\n",
       "      <td>False</td>\n",
       "      <td>0.0</td>\n",
       "      <td>0.246289</td>\n",
       "      <td>0.001359</td>\n",
       "    </tr>\n",
       "    <tr>\n",
       "      <th>4</th>\n",
       "      <td>5</td>\n",
       "      <td>documents/q3-fy22-earnings-presentation.pdf</td>\n",
       "      <td>finance</td>\n",
       "      <td>NaN</td>\n",
       "      <td>Financial\\tpresentation\\tto\\t accompany\\tmanag...</td>\n",
       "      <td>37757</td>\n",
       "      <td>5</td>\n",
       "      <td>False</td>\n",
       "      <td>0.567074</td>\n",
       "      <td>&lt;NA&gt;</td>\n",
       "      <td>...</td>\n",
       "      <td>0.081154</td>\n",
       "      <td>&lt;NA&gt;</td>\n",
       "      <td>False</td>\n",
       "      <td>0.135358</td>\n",
       "      <td>0.675202</td>\n",
       "      <td>0.227926</td>\n",
       "      <td>False</td>\n",
       "      <td>0.0</td>\n",
       "      <td>0.227926</td>\n",
       "      <td>0.000001</td>\n",
       "    </tr>\n",
       "  </tbody>\n",
       "</table>\n",
       "<p>5 rows × 34 columns</p>\n",
       "</div>"
      ],
      "text/plain": [
       "   index                                           filename    topic quality  \\\n",
       "0      1  documents/Blackstone-Third-Quarter-2023-Invest...  finance    good   \n",
       "1      2                              documents/8k-nike.pdf  finance    good   \n",
       "2      3        documents/04-FY24-Q1-NIKE-Press-Release.pdf  finance    good   \n",
       "3      4                     documents/10-K 2022-Apple2.pdf  finance    good   \n",
       "4      5        documents/q3-fy22-earnings-presentation.pdf  finance     NaN   \n",
       "\n",
       "                                                text  text_length  \\\n",
       "0  Blackstone Third Quarter 2023 Investor Call Oc...        59328   \n",
       "1  SECURITIES AND EXCHANGE COMMISSIONFORM 8-K Cur...        32855   \n",
       "2  Investor Contact:Media Contact:Paul TrussellVi...        12599   \n",
       "3  The future principal payments for the Company’...         7346   \n",
       "4  Financial\\tpresentation\\tto\\t accompany\\tmanag...        37757   \n",
       "\n",
       "   cleanlab_row_ID  is_near_duplicate  near_duplicate_score  \\\n",
       "0                1              False              0.369557   \n",
       "1                2              False              0.366482   \n",
       "2                3              False              0.296951   \n",
       "3                4              False              0.558332   \n",
       "4                5              False              0.567074   \n",
       "\n",
       "   near_duplicate_cluster_id  ...  non_english_score  predicted_language  \\\n",
       "0                       <NA>  ...           0.039626                <NA>   \n",
       "1                       <NA>  ...           0.559182                <NA>   \n",
       "2                       <NA>  ...           0.073851                <NA>   \n",
       "3                       <NA>  ...           0.074378                <NA>   \n",
       "4                       <NA>  ...           0.081154                <NA>   \n",
       "\n",
       "   is_toxic  toxic_score  sentiment_score  bias_score is_biased  \\\n",
       "0     False     0.181357         0.734437    0.231685     False   \n",
       "1     False     0.131032         0.663306    0.236311     False   \n",
       "2     False     0.174005         0.624429    0.252296     False   \n",
       "3     False     0.082228         0.722761    0.246289     False   \n",
       "4     False     0.135358         0.675202    0.227926     False   \n",
       "\n",
       "  gender_bias_score  racial_bias_score  sexual_orientation_bias_score  \n",
       "0               0.0           0.231685                       0.000024  \n",
       "1               0.0           0.236311                       0.000080  \n",
       "2               0.0           0.252296                       0.000005  \n",
       "3               0.0           0.246289                       0.001359  \n",
       "4               0.0           0.227926                       0.000001  \n",
       "\n",
       "[5 rows x 34 columns]"
      ]
     },
     "metadata": {},
     "output_type": "display_data"
    }
   ],
   "source": [
    "# Combine DataFrame with Cleanlab columns\n",
    "cleanlab_df = df.merge(\n",
    "    cleanlab_columns, left_index=True, right_index=True\n",
    ")\n",
    "\n",
    "display(cleanlab_df.head())"
   ]
  },
  {
   "cell_type": "code",
   "execution_count": 18,
   "id": "da2d3175-a0da-4350-aed2-ab29be61993d",
   "metadata": {},
   "outputs": [
    {
     "name": "stdout",
     "output_type": "stream",
     "text": [
      "There are 0 outliers in our documents data.\n"
     ]
    },
    {
     "data": {
      "text/html": [
       "<div>\n",
       "<style scoped>\n",
       "    .dataframe tbody tr th:only-of-type {\n",
       "        vertical-align: middle;\n",
       "    }\n",
       "\n",
       "    .dataframe tbody tr th {\n",
       "        vertical-align: top;\n",
       "    }\n",
       "\n",
       "    .dataframe thead th {\n",
       "        text-align: right;\n",
       "    }\n",
       "</style>\n",
       "<table border=\"1\" class=\"dataframe\">\n",
       "  <thead>\n",
       "    <tr style=\"text-align: right;\">\n",
       "      <th></th>\n",
       "      <th>text</th>\n",
       "      <th>outlier_score</th>\n",
       "      <th>is_outlier</th>\n",
       "    </tr>\n",
       "  </thead>\n",
       "  <tbody>\n",
       "  </tbody>\n",
       "</table>\n",
       "</div>"
      ],
      "text/plain": [
       "Empty DataFrame\n",
       "Columns: [text, outlier_score, is_outlier]\n",
       "Index: []"
      ]
     },
     "metadata": {},
     "output_type": "display_data"
    }
   ],
   "source": [
    "outlier_issues = cleanlab_df.query(\"is_outlier\").sort_values(\"outlier_score\", ascending=False)\n",
    "\n",
    "outlier_columns = [\"outlier_score\", \"is_outlier\"]\n",
    "columns_to_display = [text_column] + outlier_columns\n",
    "\n",
    "print(f\"There are {len(outlier_issues)} outliers in our documents data.\")\n",
    "display(outlier_issues.head(5)[columns_to_display])"
   ]
  },
  {
   "cell_type": "code",
   "execution_count": 19,
   "id": "bb8d6288-8ec4-4e42-b939-7e34d818339b",
   "metadata": {},
   "outputs": [
    {
     "name": "stdout",
     "output_type": "stream",
     "text": [
      "There are 25 near (or exact) duplicates in our documents data. Here are some examples below:\n",
      "\n"
     ]
    },
    {
     "data": {
      "text/html": [
       "<div>\n",
       "<style scoped>\n",
       "    .dataframe tbody tr th:only-of-type {\n",
       "        vertical-align: middle;\n",
       "    }\n",
       "\n",
       "    .dataframe tbody tr th {\n",
       "        vertical-align: top;\n",
       "    }\n",
       "\n",
       "    .dataframe thead th {\n",
       "        text-align: right;\n",
       "    }\n",
       "</style>\n",
       "<table border=\"1\" class=\"dataframe\">\n",
       "  <thead>\n",
       "    <tr style=\"text-align: right;\">\n",
       "      <th></th>\n",
       "      <th>text</th>\n",
       "      <th>near_duplicate_score</th>\n",
       "      <th>near_duplicate_cluster_id</th>\n",
       "      <th>is_near_duplicate</th>\n",
       "    </tr>\n",
       "  </thead>\n",
       "  <tbody>\n",
       "    <tr>\n",
       "      <th>43</th>\n",
       "      <td>NaN</td>\n",
       "      <td>1.000000</td>\n",
       "      <td>0</td>\n",
       "      <td>True</td>\n",
       "    </tr>\n",
       "    <tr>\n",
       "      <th>44</th>\n",
       "      <td>NaN</td>\n",
       "      <td>1.000000</td>\n",
       "      <td>0</td>\n",
       "      <td>True</td>\n",
       "    </tr>\n",
       "    <tr>\n",
       "      <th>88</th>\n",
       "      <td>NaN</td>\n",
       "      <td>1.000000</td>\n",
       "      <td>0</td>\n",
       "      <td>True</td>\n",
       "    </tr>\n",
       "    <tr>\n",
       "      <th>96</th>\n",
       "      <td>[OUTDATED] Product Name Description Price Avai...</td>\n",
       "      <td>0.977763</td>\n",
       "      <td>1</td>\n",
       "      <td>True</td>\n",
       "    </tr>\n",
       "    <tr>\n",
       "      <th>119</th>\n",
       "      <td>Product Name Description Price Availability Sm...</td>\n",
       "      <td>0.977763</td>\n",
       "      <td>1</td>\n",
       "      <td>True</td>\n",
       "    </tr>\n",
       "  </tbody>\n",
       "</table>\n",
       "</div>"
      ],
      "text/plain": [
       "                                                  text  near_duplicate_score  \\\n",
       "43                                                 NaN              1.000000   \n",
       "44                                                 NaN              1.000000   \n",
       "88                                                 NaN              1.000000   \n",
       "96   [OUTDATED] Product Name Description Price Avai...              0.977763   \n",
       "119  Product Name Description Price Availability Sm...              0.977763   \n",
       "\n",
       "     near_duplicate_cluster_id  is_near_duplicate  \n",
       "43                           0               True  \n",
       "44                           0               True  \n",
       "88                           0               True  \n",
       "96                           1               True  \n",
       "119                          1               True  "
      ]
     },
     "metadata": {},
     "output_type": "display_data"
    }
   ],
   "source": [
    "near_duplicates = cleanlab_df.query(\"is_near_duplicate\").sort_values(by=[\"near_duplicate_cluster_id\", \"near_duplicate_score\"])\n",
    "\n",
    "near_duplicate_columns = [\"near_duplicate_score\", \"near_duplicate_cluster_id\", \"is_near_duplicate\"]\n",
    "columns_to_display = [text_column] + near_duplicate_columns\n",
    "\n",
    "print(f\"There are {len(near_duplicates)} near (or exact) duplicates in our documents data. Here are some examples below:\\n\")\n",
    "display(near_duplicates.head()[columns_to_display])"
   ]
  },
  {
   "cell_type": "code",
   "execution_count": 20,
   "id": "59f452cd-0b5f-4adf-94e2-3293fe7ba280",
   "metadata": {},
   "outputs": [
    {
     "name": "stdout",
     "output_type": "stream",
     "text": [
      "There are 55 PII issues in our documents data. Here are some examples below:\n",
      "\n"
     ]
    },
    {
     "data": {
      "text/html": [
       "<div>\n",
       "<style scoped>\n",
       "    .dataframe tbody tr th:only-of-type {\n",
       "        vertical-align: middle;\n",
       "    }\n",
       "\n",
       "    .dataframe tbody tr th {\n",
       "        vertical-align: top;\n",
       "    }\n",
       "\n",
       "    .dataframe thead th {\n",
       "        text-align: right;\n",
       "    }\n",
       "</style>\n",
       "<table border=\"1\" class=\"dataframe\">\n",
       "  <thead>\n",
       "    <tr style=\"text-align: right;\">\n",
       "      <th></th>\n",
       "      <th>text</th>\n",
       "      <th>PII_items</th>\n",
       "      <th>PII_types</th>\n",
       "      <th>PII_score</th>\n",
       "      <th>is_PII</th>\n",
       "    </tr>\n",
       "  </thead>\n",
       "  <tbody>\n",
       "    <tr>\n",
       "      <th>1</th>\n",
       "      <td>SECURITIES AND EXCHANGE COMMISSIONFORM 8-K Cur...</td>\n",
       "      <td>[\"www.secdatabase.com.\", \"www.secdatabase.com....</td>\n",
       "      <td>[\"Twitter username\", \"URL\", \"Uncategorized PII...</td>\n",
       "      <td>0.5</td>\n",
       "      <td>True</td>\n",
       "    </tr>\n",
       "    <tr>\n",
       "      <th>95</th>\n",
       "      <td>AquaFarm sales call with Beetary Personal Memo...</td>\n",
       "      <td>[\"johnson.jacobs@gmail.com\"]</td>\n",
       "      <td>[\"email\"]</td>\n",
       "      <td>0.5</td>\n",
       "      <td>True</td>\n",
       "    </tr>\n",
       "    <tr>\n",
       "      <th>2</th>\n",
       "      <td>Investor Contact:Media Contact:Paul TrussellVi...</td>\n",
       "      <td>[\"Rustique-Petteniinvestor.relatio\", \"https://...</td>\n",
       "      <td>[\"Twitter username\", \"URL\", \"email\", \"phone nu...</td>\n",
       "      <td>0.5</td>\n",
       "      <td>True</td>\n",
       "    </tr>\n",
       "    <tr>\n",
       "      <th>53</th>\n",
       "      <td>Internet and Technology Safety Policy Agreemen...</td>\n",
       "      <td>[\"davidbrown@gmail.com\"]</td>\n",
       "      <td>[\"email\"]</td>\n",
       "      <td>0.5</td>\n",
       "      <td>True</td>\n",
       "    </tr>\n",
       "    <tr>\n",
       "      <th>54</th>\n",
       "      <td>Grade Level/Dept StaffYes Cost: ______________...</td>\n",
       "      <td>[\"Jones01/01/24sjones@gmail.com561\", \"89109555...</td>\n",
       "      <td>[\"email\"]</td>\n",
       "      <td>0.5</td>\n",
       "      <td>True</td>\n",
       "    </tr>\n",
       "  </tbody>\n",
       "</table>\n",
       "</div>"
      ],
      "text/plain": [
       "                                                 text  \\\n",
       "1   SECURITIES AND EXCHANGE COMMISSIONFORM 8-K Cur...   \n",
       "95  AquaFarm sales call with Beetary Personal Memo...   \n",
       "2   Investor Contact:Media Contact:Paul TrussellVi...   \n",
       "53  Internet and Technology Safety Policy Agreemen...   \n",
       "54  Grade Level/Dept StaffYes Cost: ______________...   \n",
       "\n",
       "                                            PII_items  \\\n",
       "1   [\"www.secdatabase.com.\", \"www.secdatabase.com....   \n",
       "95                       [\"johnson.jacobs@gmail.com\"]   \n",
       "2   [\"Rustique-Petteniinvestor.relatio\", \"https://...   \n",
       "53                           [\"davidbrown@gmail.com\"]   \n",
       "54  [\"Jones01/01/24sjones@gmail.com561\", \"89109555...   \n",
       "\n",
       "                                            PII_types  PII_score  is_PII  \n",
       "1   [\"Twitter username\", \"URL\", \"Uncategorized PII...        0.5    True  \n",
       "95                                          [\"email\"]        0.5    True  \n",
       "2   [\"Twitter username\", \"URL\", \"email\", \"phone nu...        0.5    True  \n",
       "53                                          [\"email\"]        0.5    True  \n",
       "54                                          [\"email\"]        0.5    True  "
      ]
     },
     "metadata": {},
     "output_type": "display_data"
    }
   ],
   "source": [
    "pii_issues = cleanlab_df.query(\"is_PII\").sort_values(\"PII_score\", ascending=False)\n",
    "\n",
    "pii_columns = [\"PII_items\", \"PII_types\", \"PII_score\", \"is_PII\"]\n",
    "columns_to_display = [text_column] + pii_columns\n",
    "\n",
    "print(f\"There are {len(pii_issues)} PII issues in our documents data. Here are some examples below:\\n\")\n",
    "display(pii_issues.head(5)[columns_to_display])"
   ]
  },
  {
   "cell_type": "code",
   "execution_count": 21,
   "id": "34f46fa5-88fd-4c3d-89e8-3fd3d1480445",
   "metadata": {},
   "outputs": [
    {
     "name": "stdout",
     "output_type": "stream",
     "text": [
      "There are 40 informal issues in our documents data. Here are some examples below:\n",
      "\n"
     ]
    },
    {
     "data": {
      "text/html": [
       "<div>\n",
       "<style scoped>\n",
       "    .dataframe tbody tr th:only-of-type {\n",
       "        vertical-align: middle;\n",
       "    }\n",
       "\n",
       "    .dataframe tbody tr th {\n",
       "        vertical-align: top;\n",
       "    }\n",
       "\n",
       "    .dataframe thead th {\n",
       "        text-align: right;\n",
       "    }\n",
       "</style>\n",
       "<table border=\"1\" class=\"dataframe\">\n",
       "  <thead>\n",
       "    <tr style=\"text-align: right;\">\n",
       "      <th></th>\n",
       "      <th>text</th>\n",
       "      <th>informal_score</th>\n",
       "      <th>is_informal</th>\n",
       "      <th>spelling_issue_score</th>\n",
       "      <th>grammar_issue_score</th>\n",
       "      <th>slang_issue_score</th>\n",
       "    </tr>\n",
       "  </thead>\n",
       "  <tbody>\n",
       "    <tr>\n",
       "      <th>97</th>\n",
       "      <td>Ð​Ð³Ñ€Ð¾Ð˜Ð½Ð½Ð¾Ð²ÐµÐ¹Ñ‚: ÐŸÑ€Ð¸Ð²Ð»ÐµÑ‡ÐµÐ½Ð¸...</td>\n",
       "      <td>0.706596</td>\n",
       "      <td>True</td>\n",
       "      <td>0.942308</td>\n",
       "      <td>0.405155</td>\n",
       "      <td>0.890181</td>\n",
       "    </tr>\n",
       "    <tr>\n",
       "      <th>100</th>\n",
       "      <td>Kundenansprache\\tfÃ¼r\\tDataWaveEinfÃ¼hrungData...</td>\n",
       "      <td>0.702962</td>\n",
       "      <td>True</td>\n",
       "      <td>0.720379</td>\n",
       "      <td>0.688940</td>\n",
       "      <td>0.708276</td>\n",
       "    </tr>\n",
       "    <tr>\n",
       "      <th>62</th>\n",
       "      <td>ModelMaterialPanel SizeFolded SizeHeightWeight...</td>\n",
       "      <td>0.682100</td>\n",
       "      <td>True</td>\n",
       "      <td>0.729167</td>\n",
       "      <td>0.563636</td>\n",
       "      <td>0.777031</td>\n",
       "    </tr>\n",
       "    <tr>\n",
       "      <th>4</th>\n",
       "      <td>Financial\\tpresentation\\tto\\t accompany\\tmanag...</td>\n",
       "      <td>0.676962</td>\n",
       "      <td>True</td>\n",
       "      <td>0.202083</td>\n",
       "      <td>0.855214</td>\n",
       "      <td>0.736149</td>\n",
       "    </tr>\n",
       "    <tr>\n",
       "      <th>101</th>\n",
       "      <td>Kundenaufbaustrategie\\tfÃ¼r\\tBrewMastersGuildE...</td>\n",
       "      <td>0.671138</td>\n",
       "      <td>True</td>\n",
       "      <td>0.717300</td>\n",
       "      <td>0.607131</td>\n",
       "      <td>0.712065</td>\n",
       "    </tr>\n",
       "  </tbody>\n",
       "</table>\n",
       "</div>"
      ],
      "text/plain": [
       "                                                  text  informal_score  \\\n",
       "97   Ð​Ð³Ñ€Ð¾Ð˜Ð½Ð½Ð¾Ð²ÐµÐ¹Ñ‚: ÐŸÑ€Ð¸Ð²Ð»ÐµÑ‡ÐµÐ½Ð¸...        0.706596   \n",
       "100  Kundenansprache\\tfÃ¼r\\tDataWaveEinfÃ¼hrungData...        0.702962   \n",
       "62   ModelMaterialPanel SizeFolded SizeHeightWeight...        0.682100   \n",
       "4    Financial\\tpresentation\\tto\\t accompany\\tmanag...        0.676962   \n",
       "101  Kundenaufbaustrategie\\tfÃ¼r\\tBrewMastersGuildE...        0.671138   \n",
       "\n",
       "     is_informal  spelling_issue_score  grammar_issue_score  slang_issue_score  \n",
       "97          True              0.942308             0.405155           0.890181  \n",
       "100         True              0.720379             0.688940           0.708276  \n",
       "62          True              0.729167             0.563636           0.777031  \n",
       "4           True              0.202083             0.855214           0.736149  \n",
       "101         True              0.717300             0.607131           0.712065  "
      ]
     },
     "metadata": {},
     "output_type": "display_data"
    }
   ],
   "source": [
    "informal_issues = cleanlab_df.query(\"is_informal\").sort_values(\"informal_score\", ascending=False)\n",
    "\n",
    "informal_columns = [\"informal_score\", \"is_informal\", 'spelling_issue_score', 'grammar_issue_score', 'slang_issue_score']\n",
    "columns_to_display = [text_column] + informal_columns\n",
    "\n",
    "print(f\"There are {len(informal_issues)} informal issues in our documents data. Here are some examples below:\\n\")\n",
    "display(informal_issues.head(5)[columns_to_display])"
   ]
  },
  {
   "cell_type": "code",
   "execution_count": 23,
   "id": "e8cae1a8-42ec-4d92-b33b-e51d509d36d3",
   "metadata": {},
   "outputs": [
    {
     "name": "stdout",
     "output_type": "stream",
     "text": [
      "There are 0 biased issues in our documents data.\n"
     ]
    },
    {
     "data": {
      "text/html": [
       "<div>\n",
       "<style scoped>\n",
       "    .dataframe tbody tr th:only-of-type {\n",
       "        vertical-align: middle;\n",
       "    }\n",
       "\n",
       "    .dataframe tbody tr th {\n",
       "        vertical-align: top;\n",
       "    }\n",
       "\n",
       "    .dataframe thead th {\n",
       "        text-align: right;\n",
       "    }\n",
       "</style>\n",
       "<table border=\"1\" class=\"dataframe\">\n",
       "  <thead>\n",
       "    <tr style=\"text-align: right;\">\n",
       "      <th></th>\n",
       "      <th>text</th>\n",
       "      <th>bias_score</th>\n",
       "      <th>is_biased</th>\n",
       "      <th>gender_bias_score</th>\n",
       "      <th>racial_bias_score</th>\n",
       "      <th>sexual_orientation_bias_score</th>\n",
       "    </tr>\n",
       "  </thead>\n",
       "  <tbody>\n",
       "  </tbody>\n",
       "</table>\n",
       "</div>"
      ],
      "text/plain": [
       "Empty DataFrame\n",
       "Columns: [text, bias_score, is_biased, gender_bias_score, racial_bias_score, sexual_orientation_bias_score]\n",
       "Index: []"
      ]
     },
     "metadata": {},
     "output_type": "display_data"
    }
   ],
   "source": [
    "biased_issues = cleanlab_df.query(\"is_biased\").sort_values(\"bias_score\", ascending=False)\n",
    "\n",
    "biased_columns = [\"bias_score\", \"is_biased\", 'gender_bias_score', 'racial_bias_score', 'sexual_orientation_bias_score']\n",
    "columns_to_display = [text_column] + biased_columns\n",
    "\n",
    "print(f\"There are {len(biased_issues)} biased issues in our documents data.\")\n",
    "display(biased_issues.head(5)[columns_to_display])"
   ]
  },
  {
   "cell_type": "code",
   "execution_count": 24,
   "id": "13a7da97-412e-47c5-a3a5-117819a3e177",
   "metadata": {},
   "outputs": [
    {
     "name": "stdout",
     "output_type": "stream",
     "text": [
      "There are 3 toxic issues in our documents data. Here are some examples below:\n",
      "\n"
     ]
    },
    {
     "data": {
      "text/html": [
       "<div>\n",
       "<style scoped>\n",
       "    .dataframe tbody tr th:only-of-type {\n",
       "        vertical-align: middle;\n",
       "    }\n",
       "\n",
       "    .dataframe tbody tr th {\n",
       "        vertical-align: top;\n",
       "    }\n",
       "\n",
       "    .dataframe thead th {\n",
       "        text-align: right;\n",
       "    }\n",
       "</style>\n",
       "<table border=\"1\" class=\"dataframe\">\n",
       "  <thead>\n",
       "    <tr style=\"text-align: right;\">\n",
       "      <th></th>\n",
       "      <th>text</th>\n",
       "      <th>is_toxic</th>\n",
       "      <th>toxic_score</th>\n",
       "    </tr>\n",
       "  </thead>\n",
       "  <tbody>\n",
       "    <tr>\n",
       "      <th>94</th>\n",
       "      <td>YOU ARE A HORRIBLE CFO why in the world would ...</td>\n",
       "      <td>True</td>\n",
       "      <td>0.862793</td>\n",
       "    </tr>\n",
       "    <tr>\n",
       "      <th>84</th>\n",
       "      <td>To the HR Department,GO DIE!It's become increa...</td>\n",
       "      <td>True</td>\n",
       "      <td>0.834473</td>\n",
       "    </tr>\n",
       "    <tr>\n",
       "      <th>85</th>\n",
       "      <td>Today's meeting was heated, to say the least. ...</td>\n",
       "      <td>True</td>\n",
       "      <td>0.831543</td>\n",
       "    </tr>\n",
       "  </tbody>\n",
       "</table>\n",
       "</div>"
      ],
      "text/plain": [
       "                                                 text  is_toxic  toxic_score\n",
       "94  YOU ARE A HORRIBLE CFO why in the world would ...      True     0.862793\n",
       "84  To the HR Department,GO DIE!It's become increa...      True     0.834473\n",
       "85  Today's meeting was heated, to say the least. ...      True     0.831543"
      ]
     },
     "metadata": {},
     "output_type": "display_data"
    }
   ],
   "source": [
    "toxic_issues = cleanlab_df.query(\"is_toxic\").sort_values(\"toxic_score\", ascending=False)\n",
    "\n",
    "toxic_columns = ['is_toxic', 'toxic_score']\n",
    "columns_to_display = [text_column] + toxic_columns\n",
    "\n",
    "print(f\"There are {len(toxic_issues)} toxic issues in our documents data. Here are some examples below:\\n\")\n",
    "display(toxic_issues.head(5)[columns_to_display])"
   ]
  },
  {
   "cell_type": "code",
   "execution_count": 25,
   "id": "79918402-b267-4dad-9969-d8a49e943776",
   "metadata": {},
   "outputs": [
    {
     "name": "stdout",
     "output_type": "stream",
     "text": [
      "There are 6 non English issues in our documents data. Here are some examples below:\n",
      "\n"
     ]
    },
    {
     "data": {
      "text/html": [
       "<div>\n",
       "<style scoped>\n",
       "    .dataframe tbody tr th:only-of-type {\n",
       "        vertical-align: middle;\n",
       "    }\n",
       "\n",
       "    .dataframe tbody tr th {\n",
       "        vertical-align: top;\n",
       "    }\n",
       "\n",
       "    .dataframe thead th {\n",
       "        text-align: right;\n",
       "    }\n",
       "</style>\n",
       "<table border=\"1\" class=\"dataframe\">\n",
       "  <thead>\n",
       "    <tr style=\"text-align: right;\">\n",
       "      <th></th>\n",
       "      <th>text</th>\n",
       "      <th>is_non_english</th>\n",
       "      <th>non_english_score</th>\n",
       "      <th>predicted_language</th>\n",
       "    </tr>\n",
       "  </thead>\n",
       "  <tbody>\n",
       "    <tr>\n",
       "      <th>43</th>\n",
       "      <td>NaN</td>\n",
       "      <td>True</td>\n",
       "      <td>0.984444</td>\n",
       "      <td>&lt;NA&gt;</td>\n",
       "    </tr>\n",
       "    <tr>\n",
       "      <th>44</th>\n",
       "      <td>NaN</td>\n",
       "      <td>True</td>\n",
       "      <td>0.984444</td>\n",
       "      <td>&lt;NA&gt;</td>\n",
       "    </tr>\n",
       "    <tr>\n",
       "      <th>88</th>\n",
       "      <td>NaN</td>\n",
       "      <td>True</td>\n",
       "      <td>0.984444</td>\n",
       "      <td>&lt;NA&gt;</td>\n",
       "    </tr>\n",
       "    <tr>\n",
       "      <th>97</th>\n",
       "      <td>Ð​Ð³Ñ€Ð¾Ð˜Ð½Ð½Ð¾Ð²ÐµÐ¹Ñ‚: ÐŸÑ€Ð¸Ð²Ð»ÐµÑ‡ÐµÐ½Ð¸...</td>\n",
       "      <td>True</td>\n",
       "      <td>0.971142</td>\n",
       "      <td>&lt;NA&gt;</td>\n",
       "    </tr>\n",
       "    <tr>\n",
       "      <th>100</th>\n",
       "      <td>Kundenansprache\\tfÃ¼r\\tDataWaveEinfÃ¼hrungData...</td>\n",
       "      <td>True</td>\n",
       "      <td>0.915949</td>\n",
       "      <td>German</td>\n",
       "    </tr>\n",
       "  </tbody>\n",
       "</table>\n",
       "</div>"
      ],
      "text/plain": [
       "                                                  text  is_non_english  \\\n",
       "43                                                 NaN            True   \n",
       "44                                                 NaN            True   \n",
       "88                                                 NaN            True   \n",
       "97   Ð​Ð³Ñ€Ð¾Ð˜Ð½Ð½Ð¾Ð²ÐµÐ¹Ñ‚: ÐŸÑ€Ð¸Ð²Ð»ÐµÑ‡ÐµÐ½Ð¸...            True   \n",
       "100  Kundenansprache\\tfÃ¼r\\tDataWaveEinfÃ¼hrungData...            True   \n",
       "\n",
       "     non_english_score predicted_language  \n",
       "43            0.984444               <NA>  \n",
       "44            0.984444               <NA>  \n",
       "88            0.984444               <NA>  \n",
       "97            0.971142               <NA>  \n",
       "100           0.915949             German  "
      ]
     },
     "metadata": {},
     "output_type": "display_data"
    }
   ],
   "source": [
    "non_english_issues = cleanlab_df.query(\"is_non_english\").sort_values(\"non_english_score\", ascending=False)\n",
    "\n",
    "non_english_columns = ['is_non_english', 'non_english_score', 'predicted_language']\n",
    "columns_to_display = [text_column] + non_english_columns\n",
    "\n",
    "print(f\"There are {len(non_english_issues)} non English issues in our documents data. Here are some examples below:\\n\")\n",
    "display(non_english_issues.head(5)[columns_to_display])"
   ]
  },
  {
   "cell_type": "code",
   "execution_count": 67,
   "id": "c0a1fb73-3d63-4ce1-946c-2d95cd3acb1a",
   "metadata": {},
   "outputs": [],
   "source": [
    "# Create a list of columns that start with \"is_\"\n",
    "is_columns = [col for col in cleanlab_df.columns if col.startswith('is_')]\n",
    "\n",
    "# Filter out rows where any of the \"is_\" columns have a value of True or 1\n",
    "filtered_df = cleanlab_df[~cleanlab_df[is_columns].any(axis=1)]"
   ]
  },
  {
   "cell_type": "code",
   "execution_count": 27,
   "id": "c6d599d9-afca-4922-9557-d489f0edd06c",
   "metadata": {},
   "outputs": [
    {
     "data": {
      "text/plain": [
       "['is_near_duplicate',\n",
       " 'is_outlier',\n",
       " 'is_empty_text',\n",
       " 'is_PII',\n",
       " 'is_informal',\n",
       " 'is_non_english',\n",
       " 'is_toxic',\n",
       " 'is_biased']"
      ]
     },
     "execution_count": 27,
     "metadata": {},
     "output_type": "execute_result"
    }
   ],
   "source": [
    "is_columns"
   ]
  },
  {
   "cell_type": "code",
   "execution_count": 35,
   "id": "89748294-c413-4ba8-9edd-85e06abf02f9",
   "metadata": {},
   "outputs": [],
   "source": [
    "filtered_df = filtered_df[document_data_columns]"
   ]
  },
  {
   "cell_type": "code",
   "execution_count": 36,
   "id": "8897a1f7-71e7-4c95-8d9d-1e59d8778a95",
   "metadata": {},
   "outputs": [
    {
     "name": "stdout",
     "output_type": "stream",
     "text": [
      "Summary Statistics of Text Length:\n",
      "count       41.000000\n",
      "mean      9723.414634\n",
      "std      16410.582474\n",
      "min        210.000000\n",
      "25%       1574.000000\n",
      "50%       3510.000000\n",
      "75%       7346.000000\n",
      "max      71817.000000\n",
      "Name: text_length, dtype: float64\n"
     ]
    },
    {
     "data": {
      "image/png": "[encoded data removed]",
      "text/plain": [
       "<Figure size 1000x600 with 1 Axes>"
      ]
     },
     "metadata": {},
     "output_type": "display_data"
    },
    {
     "data": {
      "image/png": "[encoded data removed]",
      "text/plain": [
       "<Figure size 1000x600 with 1 Axes>"
      ]
     },
     "metadata": {},
     "output_type": "display_data"
    }
   ],
   "source": [
    "# Calculate the length of the text in the 'text' column\n",
    "filtered_df['text_length'] = filtered_df['text'].apply(lambda x: len(x) if pd.notnull(x) else 0)\n",
    "\n",
    "# Summary statistics\n",
    "length_stats = filtered_df['text_length'].describe()\n",
    "print(\"Summary Statistics of Text Length:\")\n",
    "print(length_stats)\n",
    "\n",
    "# Plotting the distribution of text lengths\n",
    "plt.figure(figsize=(10, 6))\n",
    "plt.hist(filtered_df['text_length'], bins=20, color='blue', alpha=0.7)\n",
    "plt.title('Distribution of Text Lengths')\n",
    "plt.xlabel('Text Length')\n",
    "plt.ylabel('Frequency')\n",
    "plt.grid(True)\n",
    "plt.show()\n",
    "\n",
    "# Optional: plot a boxplot to see the distribution with outliers\n",
    "plt.figure(figsize=(10, 6))\n",
    "plt.boxplot(filtered_df['text_length'], vert=False)\n",
    "plt.title('Boxplot of Text Lengths')\n",
    "plt.xlabel('Text Length')\n",
    "plt.grid(True)\n",
    "plt.show()\n",
    "\n"
   ]
  },
  {
   "cell_type": "code",
   "execution_count": 37,
   "id": "99345ffb-1bae-4120-9047-65d42b61f780",
   "metadata": {},
   "outputs": [
    {
     "name": "stdout",
     "output_type": "stream",
     "text": [
      "\n",
      "Missing Values in Each Column:\n",
      "index           0\n",
      "filename        0\n",
      "topic           0\n",
      "quality        29\n",
      "text            0\n",
      "text_length     0\n",
      "dtype: int64\n",
      "\n",
      "Quality Column Distribution:\n",
      "quality\n",
      "NaN     29\n",
      "good    10\n",
      "bad      2\n",
      "Name: count, dtype: int64\n",
      "\n",
      "Quality Distribution per Topic:\n",
      "quality  bad  good\n",
      "topic             \n",
      "finance    0     3\n",
      "hr         0     2\n",
      "it         2     0\n",
      "product    0     3\n",
      "sales      0     2\n"
     ]
    }
   ],
   "source": [
    "# Analyze missing values\n",
    "missing_values = filtered_df.isnull().sum()\n",
    "print(f\"\\nMissing Values in Each Column:\\n{missing_values}\")\n",
    "\n",
    "# Analyze the 'quality' column\n",
    "quality_counts = filtered_df['quality'].value_counts(dropna=False)\n",
    "print(f\"\\nQuality Column Distribution:\\n{quality_counts}\")\n",
    "\n",
    "# Quality distribution per topic\n",
    "quality_topic_distribution = filtered_df.pivot_table(index='topic', columns='quality', aggfunc='size', fill_value=0)\n",
    "print(f\"\\nQuality Distribution per Topic:\\n{quality_topic_distribution}\")"
   ]
  },
  {
   "cell_type": "markdown",
   "id": "3527c711-ab60-4155-93c4-5e4dacf3c352",
   "metadata": {},
   "source": [
    "## Initialize RAG Pipeline"
   ]
  },
  {
   "cell_type": "code",
   "execution_count": 38,
   "id": "75c8c597-fb1b-42d0-9145-6978dfca2750",
   "metadata": {},
   "outputs": [
    {
     "name": "stdout",
     "output_type": "stream",
     "text": [
      "Creating new index: document-index\n",
      "Index document-index already exists. Connecting to existing index.\n",
      "Successfully indexed batch of 41 documents.\n"
     ]
    }
   ],
   "source": [
    "# Intialize RAG pipeline\n",
    "rag_pipeline = PineconeRAGPipeline()\n",
    "rag_pipeline.index_documents(filtered_df)"
   ]
  },
  {
   "cell_type": "code",
   "execution_count": 39,
   "id": "d90e52b0-dc2f-4371-88ef-a38a21411f7e",
   "metadata": {},
   "outputs": [
    {
     "data": {
      "text/html": [
       "<div>\n",
       "<style scoped>\n",
       "    .dataframe tbody tr th:only-of-type {\n",
       "        vertical-align: middle;\n",
       "    }\n",
       "\n",
       "    .dataframe tbody tr th {\n",
       "        vertical-align: top;\n",
       "    }\n",
       "\n",
       "    .dataframe thead th {\n",
       "        text-align: right;\n",
       "    }\n",
       "</style>\n",
       "<table border=\"1\" class=\"dataframe\">\n",
       "  <thead>\n",
       "    <tr style=\"text-align: right;\">\n",
       "      <th></th>\n",
       "      <th>index</th>\n",
       "      <th>filename</th>\n",
       "      <th>topic</th>\n",
       "      <th>quality</th>\n",
       "      <th>text</th>\n",
       "      <th>text_length</th>\n",
       "    </tr>\n",
       "  </thead>\n",
       "  <tbody>\n",
       "    <tr>\n",
       "      <th>0</th>\n",
       "      <td>1</td>\n",
       "      <td>documents/Blackstone-Third-Quarter-2023-Invest...</td>\n",
       "      <td>finance</td>\n",
       "      <td>good</td>\n",
       "      <td>Blackstone Third Quarter 2023 Investor Call Oc...</td>\n",
       "      <td>59328</td>\n",
       "    </tr>\n",
       "    <tr>\n",
       "      <th>3</th>\n",
       "      <td>4</td>\n",
       "      <td>documents/10-K 2022-Apple2.pdf</td>\n",
       "      <td>finance</td>\n",
       "      <td>good</td>\n",
       "      <td>The future principal payments for the Company’...</td>\n",
       "      <td>7346</td>\n",
       "    </tr>\n",
       "    <tr>\n",
       "      <th>19</th>\n",
       "      <td>24</td>\n",
       "      <td>documents/Authorization_for_Direct_Deposit_IFS...</td>\n",
       "      <td>finance</td>\n",
       "      <td>good</td>\n",
       "      <td>Intuit Full Service Payroll . . . . . . . . . ...</td>\n",
       "      <td>1684</td>\n",
       "    </tr>\n",
       "  </tbody>\n",
       "</table>\n",
       "</div>"
      ],
      "text/plain": [
       "    index                                           filename    topic quality  \\\n",
       "0       1  documents/Blackstone-Third-Quarter-2023-Invest...  finance    good   \n",
       "3       4                     documents/10-K 2022-Apple2.pdf  finance    good   \n",
       "19     24  documents/Authorization_for_Direct_Deposit_IFS...  finance    good   \n",
       "\n",
       "                                                 text  text_length  \n",
       "0   Blackstone Third Quarter 2023 Investor Call Oc...        59328  \n",
       "3   The future principal payments for the Company’...         7346  \n",
       "19  Intuit Full Service Payroll . . . . . . . . . ...         1684  "
      ]
     },
     "execution_count": 39,
     "metadata": {},
     "output_type": "execute_result"
    }
   ],
   "source": [
    "filtered_df.query(\"topic=='finance' and quality=='good'\")"
   ]
  },
  {
   "cell_type": "markdown",
   "id": "7eb9c280-1c36-4bd5-8bf4-e3a09059353d",
   "metadata": {},
   "source": [
    "## Search for documents with topic = finance and quality = good"
   ]
  },
  {
   "cell_type": "code",
   "execution_count": 40,
   "id": "f825333b-f2aa-44fb-9bcb-40ef6d3cd72b",
   "metadata": {},
   "outputs": [
    {
     "name": "stdout",
     "output_type": "stream",
     "text": [
      "Document: Intuit Full Service Payroll . . . . . . . . . . . . . . . . . . . . . . . . . . . . . . . . . . . . ...\n",
      "Metadata: {'filename': 'documents/Authorization_for_Direct_Deposit_IFSP.pdf', 'quality': 'good', 'topic': 'finance'}\n",
      "---\n",
      "Document: Blackstone Third Quarter 2023 Investor Call October 19, 2023 at 9:00am ETModerator: Good day and wel...\n",
      "Metadata: {'filename': 'documents/Blackstone-Third-Quarter-2023-Investor-Call.pdf', 'quality': 'good', 'topic': 'finance'}\n",
      "---\n"
     ]
    }
   ],
   "source": [
    "results = rag_pipeline.search(\n",
    "    query=\"Your search query\",\n",
    "    top_k=2,\n",
    "    filter_query={\n",
    "        \"topic\": {\"$eq\": \"finance\"},\n",
    "        \"quality\": {\"$eq\": \"good\"}\n",
    "    }\n",
    ")\n",
    "\n",
    "for doc_text, metadata in results:\n",
    "    print(f\"Document: {doc_text[:100]}...\")\n",
    "    print(f\"Metadata: {metadata}\")\n",
    "    print(\"---\")"
   ]
  },
  {
   "cell_type": "code",
   "execution_count": null,
   "id": "c50fa034-b6de-4e14-b7c0-f446888874a8",
   "metadata": {},
   "outputs": [],
   "source": []
  },
  {
   "cell_type": "markdown",
   "id": "941afdc4-f0d3-4bd4-b2c2-cab8ac545a50",
   "metadata": {},
   "source": [
    "### View Retreived Document"
   ]
  },
  {
   "cell_type": "code",
   "execution_count": 50,
   "id": "379aa3bf-c488-46ff-8c4a-6a52e6e49c89",
   "metadata": {},
   "outputs": [
    {
     "name": "stdout",
     "output_type": "stream",
     "text": [
      "Top doc for this query: \n",
      "\n",
      "('Welcome to the topic on the sales process.In this topic, we will examine the basic steps in the sales process in SAP Business One. Then we will perform a streamlined sales process.2Imagine that your company has set customer satisfaction as its top priority. You review the basic steps in the sales process and decide to use a streamlined process for rush orders to ensure that customer demands can be met as quickly as possible.3(cid:132) The sales-A/R process moves from selling the goods (and services) to delivering those goods to invoicing the customer for their purchases, to the last step in accounting of receiving the incoming payment.(cid:132) Each step in the sales process involves a document, such as a sales order, delivery, or A/R invoice. SAP Business One efficiently moves all relevant information from one document to the next in the document flow. According to the business needs, you can choose which documents to include as your process steps. The only mandatory document in sales', {'filename': 'documents/sap-sales-overview.pdf', 'quality': 'unknown', 'topic': 'sales'})\n"
     ]
    }
   ],
   "source": [
    "# Simple query regarding our documents\n",
    "question = \"Tell me about the sales principles at SAP Business One\"\n",
    "\n",
    "top_doc = rag_pipeline.search(question, top_k=1, filter_query={\"topic\": {\"$eq\": \"sales\"}})\n",
    "print(f\"Top doc for this query: \\n\\n{top_doc[0]}\")"
   ]
  },
  {
   "cell_type": "markdown",
   "id": "2de70264-3808-49df-bad1-87673534453d",
   "metadata": {},
   "source": [
    "## Use TLM to get Trustworthiness Score for RAG Outputs"
   ]
  },
  {
   "cell_type": "markdown",
   "id": "d2f32e3c-3933-4544-aa39-49cdc8437e45",
   "metadata": {},
   "source": [
    "### Build the Prompt and Query TLM"
   ]
  },
  {
   "cell_type": "code",
   "execution_count": 55,
   "id": "06772349-e66f-498d-bff9-1c125f640c79",
   "metadata": {},
   "outputs": [
    {
     "data": {
      "text/plain": [
       "'Welcome to the topic on the sales process.In this topic, we will examine the basic steps in the sales process in SAP Business One. Then we will perform a streamlined sales process.2Imagine that your company has set customer satisfaction as its top priority. You review the basic steps in the sales process and decide to use a streamlined process for rush orders to ensure that customer demands can be met as quickly as possible.3(cid:132) The sales-A/R process moves from selling the goods (and services) to delivering those goods to invoicing the customer for their purchases, to the last step in accounting of receiving the incoming payment.(cid:132) Each step in the sales process involves a document, such as a sales order, delivery, or A/R invoice. SAP Business One efficiently moves all relevant information from one document to the next in the document flow. According to the business needs, you can choose which documents to include as your process steps. The only mandatory document in sales'"
      ]
     },
     "execution_count": 55,
     "metadata": {},
     "output_type": "execute_result"
    }
   ],
   "source": [
    "rag_pipeline.search(question, top_k=1, filter_query={\"topic\": {\"$eq\": \"sales\"}})[0][0]"
   ]
  },
  {
   "cell_type": "code",
   "execution_count": 59,
   "id": "a49ada0f-b00a-4a2a-aedf-a008219fda66",
   "metadata": {},
   "outputs": [
    {
     "data": {
      "text/plain": [
       "{'response': 'In SAP Business One, item information is typically stored in the Item Master Data. This central repository contains detailed information about each item, including descriptions, pricing, inventory levels, and other relevant attributes. This data is utilized throughout the sales process, from creating sales orders to invoicing and delivery.',\n",
       " 'trustworthiness_score': 0.8826425114150929}"
      ]
     },
     "execution_count": 59,
     "metadata": {},
     "output_type": "execute_result"
    }
   ],
   "source": [
    "question = \"Based on the sales principles at SAP Business One, where is item information stored?\"\n",
    "top_docs = \"\".join(rag_pipeline.search(question, top_k=1, filter_query={\"topic\": {\"$eq\": \"sales\"}})[0][0])\n",
    "\n",
    "\n",
    "prompt = f\"Based on the following documents, answer the given question. \\n\\\n",
    "Documents: {top_docs} \\n\\\n",
    "Question: {question}\"\n",
    "\n",
    "tlm = studio.TLM(quality_preset=\"low\",)\n",
    "output = tlm.prompt(prompt)\n",
    "output"
   ]
  },
  {
   "cell_type": "markdown",
   "id": "e9a8dcac-518d-420c-aee5-51f8566bfe31",
   "metadata": {},
   "source": [
    "### Is the correct?"
   ]
  },
  {
   "cell_type": "code",
   "execution_count": 57,
   "id": "6ece66fa-b3f5-4167-b9c4-7af3c265f336",
   "metadata": {},
   "outputs": [
    {
     "data": {
      "text/plain": [
       "''"
      ]
     },
     "execution_count": 57,
     "metadata": {},
     "output_type": "execute_result"
    }
   ],
   "source": [
    "top_docs[3063:3140]"
   ]
  },
  {
   "cell_type": "code",
   "execution_count": 66,
   "id": "560a6a29-d8c2-4b13-9eeb-2f87d12de743",
   "metadata": {},
   "outputs": [
    {
     "data": {
      "text/plain": [
       "[('Welcome to the topic on the sales process.In this topic, we will examine the basic steps in the sales process in SAP Business One. Then we will perform a streamlined sales process.2Imagine that your company has set customer satisfaction as its top priority. You review the basic steps in the sales process and decide to use a streamlined process for rush orders to ensure that customer demands can be met as quickly as possible.3(cid:132) The sales-A/R process moves from selling the goods (and services) to delivering those goods to invoicing the customer for their purchases, to the last step in accounting of receiving the incoming payment.(cid:132) Each step in the sales process involves a document, such as a sales order, delivery, or A/R invoice. SAP Business One efficiently moves all relevant information from one document to the next in the document flow. According to the business needs, you can choose which documents to include as your process steps. The only mandatory document in sales',\n",
       "  {'filename': 'documents/sap-sales-overview.pdf',\n",
       "   'quality': 'unknown',\n",
       "   'topic': 'sales'}),\n",
       " ('Welcome to the topic on the sales process.In this topic, we will examine the basic steps in the sales process in SAP Business One. Then we will perform a streamlined sales process.2Imagine that your company has set customer satisfaction as its top priority. You review the basic steps in the sales process and decide to use a streamlined process for rush orders to ensure that customer demands can be met as quickly as possible.3(cid:132) The sales-A/R process moves from selling the goods (and services) to delivering those goods to invoicing the customer for their purchases, to the last step in accounting of receiving the incoming payment.(cid:132) Each step in the sales process involves a document, such as a sales order, delivery, or A/R invoice. SAP Business One efficiently moves all relevant information from one document to the next in the document flow. According to the business needs, you can choose which documents to include as your process steps. The only mandatory document in sales',\n",
       "  {'filename': 'documents/sap-sales-overview.pdf',\n",
       "   'quality': 'unknown',\n",
       "   'topic': 'sales'})]"
      ]
     },
     "execution_count": 66,
     "metadata": {},
     "output_type": "execute_result"
    }
   ],
   "source": [
    "rag_pipeline.search(question, top_k=2, filter_query={\"topic\": {\"$eq\": \"sales\"}})"
   ]
  },
  {
   "cell_type": "code",
   "execution_count": 64,
   "id": "e678e581-2ce3-4fd6-a0ac-d7bed225d9d1",
   "metadata": {},
   "outputs": [
    {
     "ename": "TypeError",
     "evalue": "sequence item 1: expected str instance, dict found",
     "output_type": "error",
     "traceback": [
      "\u001b[0;31m---------------------------------------------------------------------------\u001b[0m",
      "\u001b[0;31mTypeError\u001b[0m                                 Traceback (most recent call last)",
      "Cell \u001b[0;32mIn[64], line 2\u001b[0m\n\u001b[1;32m      1\u001b[0m question \u001b[38;5;241m=\u001b[39m \u001b[38;5;124m\"\u001b[39m\u001b[38;5;124mBased on the sales principles at SAP Business One, where is item information stored?\u001b[39m\u001b[38;5;124m\"\u001b[39m\n\u001b[0;32m----> 2\u001b[0m \u001b[38;5;124;43m\"\u001b[39;49m\u001b[38;5;124;43m\"\u001b[39;49m\u001b[38;5;241;43m.\u001b[39;49m\u001b[43mjoin\u001b[49m\u001b[43m(\u001b[49m\u001b[43mrag_pipeline\u001b[49m\u001b[38;5;241;43m.\u001b[39;49m\u001b[43msearch\u001b[49m\u001b[43m(\u001b[49m\u001b[43mquestion\u001b[49m\u001b[43m,\u001b[49m\u001b[43m \u001b[49m\u001b[43mtop_k\u001b[49m\u001b[38;5;241;43m=\u001b[39;49m\u001b[38;5;241;43m2\u001b[39;49m\u001b[43m,\u001b[49m\u001b[43m \u001b[49m\u001b[43mfilter_query\u001b[49m\u001b[38;5;241;43m=\u001b[39;49m\u001b[43m{\u001b[49m\u001b[38;5;124;43m\"\u001b[39;49m\u001b[38;5;124;43mtopic\u001b[39;49m\u001b[38;5;124;43m\"\u001b[39;49m\u001b[43m:\u001b[49m\u001b[43m \u001b[49m\u001b[43m{\u001b[49m\u001b[38;5;124;43m\"\u001b[39;49m\u001b[38;5;124;43m$eq\u001b[39;49m\u001b[38;5;124;43m\"\u001b[39;49m\u001b[43m:\u001b[49m\u001b[43m \u001b[49m\u001b[38;5;124;43m\"\u001b[39;49m\u001b[38;5;124;43msales\u001b[39;49m\u001b[38;5;124;43m\"\u001b[39;49m\u001b[43m}\u001b[49m\u001b[43m}\u001b[49m\u001b[43m)\u001b[49m\u001b[43m[\u001b[49m\u001b[38;5;241;43m0\u001b[39;49m\u001b[43m]\u001b[49m\u001b[43m)\u001b[49m\n",
      "\u001b[0;31mTypeError\u001b[0m: sequence item 1: expected str instance, dict found"
     ]
    }
   ],
   "source": [
    "question = \"Based on the sales principles at SAP Business One, where is item information stored?\"\n",
    "\"\".join(rag_pipeline.search(question, top_k=2, filter_query={\"topic\": {\"$eq\": \"sales\"}})[0])\n"
   ]
  },
  {
   "cell_type": "code",
   "execution_count": null,
   "id": "6a171971-de4f-462a-ab05-ca2b49a3b4a6",
   "metadata": {},
   "outputs": [],
   "source": []
  },
  {
   "cell_type": "code",
   "execution_count": null,
   "id": "001bad18-bc88-46ed-8aa1-94d4ac3ee45b",
   "metadata": {},
   "outputs": [],
   "source": []
  },
  {
   "cell_type": "code",
   "execution_count": null,
   "id": "18705b19-c9bb-49d8-a29e-e1705e7a78d6",
   "metadata": {},
   "outputs": [],
   "source": [
    "### find something in pinecone more accurate than handpicking the topic\n",
    "\n",
    "### use pinecone to make RAG demo more realistic "
   ]
  },
  {
   "cell_type": "code",
   "execution_count": null,
   "id": "e95be9a2-9b46-4d2b-88a3-ca3a0ad7bc51",
   "metadata": {},
   "outputs": [],
   "source": []
  },
  {
   "cell_type": "markdown",
   "id": "7ee253b8-1ecf-4ea2-a423-13bbe016e11e",
   "metadata": {},
   "source": [
    "### Can we find a hallucination?"
   ]
  },
  {
   "cell_type": "code",
   "execution_count": 99,
   "id": "5abcca04-a189-4d30-ab7e-63052dcb2daf",
   "metadata": {},
   "outputs": [
    {
     "data": {
      "text/plain": [
       "{'response': 'The given documents do not provide any information about whether the TurboCharge EV6000 supports the UL/CE/ISO charger protocols.',\n",
       " 'trustworthiness_score': 0.6223180925974554}"
      ]
     },
     "execution_count": 99,
     "metadata": {},
     "output_type": "execute_result"
    }
   ],
   "source": [
    "question = \"Does the TurboCharge EV6000 support the UL/CE/ISO charger protocols?\"\n",
    "top_docs = \" | \".join(rag_pipeline.search(question, top_k=1, topic='product'))\n",
    "\n",
    "prompt = f\"Based on the following documents, answer the given question. \\n\\\n",
    "Documents: {top_docs} \\n\\\n",
    "Question: {question}\"\n",
    "\n",
    "tlm = studio.TLM(quality_preset=\"low\",)\n",
    "output = tlm.prompt(prompt)\n",
    "output"
   ]
  },
  {
   "cell_type": "code",
   "execution_count": null,
   "id": "6b16588c-1c7b-4029-b2ab-760248ad6a27",
   "metadata": {},
   "outputs": [],
   "source": []
  },
  {
   "cell_type": "markdown",
   "id": "0b2ea643-4621-4d3c-8bf7-afc438e65fa3",
   "metadata": {},
   "source": [
    "### Is the correct?"
   ]
  },
  {
   "cell_type": "code",
   "execution_count": 11,
   "id": "0f4ae7e8-c60a-4bcb-8f9f-8c19811c61b0",
   "metadata": {},
   "outputs": [
    {
     "data": {
      "text/plain": [
       "'Charging Standards CHAdeMO, CCS, Tesla Supercharger Supported'"
      ]
     },
     "execution_count": 11,
     "metadata": {},
     "output_type": "execute_result"
    }
   ],
   "source": [
    "top_docs[2239:2300]"
   ]
  },
  {
   "cell_type": "markdown",
   "id": "929c75a5-e2f3-4116-a905-0147f92c86c5",
   "metadata": {},
   "source": [
    "### Apply TLM to Existing RAG Pipeline or any LLM"
   ]
  },
  {
   "cell_type": "code",
   "execution_count": 12,
   "id": "d825b76f-8c07-4d17-8a45-732cc572c1e7",
   "metadata": {},
   "outputs": [
    {
     "name": "stdout",
     "output_type": "stream",
     "text": [
      "TLM Score for Response A: 0.8407435458726287\n",
      "TLM Score for Response B: 0.2884272564664554\n"
     ]
    }
   ],
   "source": [
    "prompt = \"Based on the following documents, answer the given question. \\n\\\n",
    "Documents:  We're getting new desks! Specs are here: Staples Model RTG120XLDBL BasePage \\\n",
    "CollectionModel | Dimensions width = 60.0in height = 48.0in depth = 24.0in Base Color Black \\\n",
    "Top Color White | Specs SheetsPowered by TCPDF (www.tcpdf.org)\\\n",
    "Question: What is the width of the new desks?\"\n",
    "\n",
    "response_A = \"60 inches\"\n",
    "response_B = \"24 inches\" \n",
    "\n",
    "trust_score_A = tlm.get_trustworthiness_score(prompt, response_A)\n",
    "trust_score_B = tlm.get_trustworthiness_score(prompt, response_B)\n",
    "\n",
    "print(f\"TLM Score for Response A: {trust_score_A}\")\n",
    "print(f\"TLM Score for Response B: {trust_score_B}\")"
   ]
  },
  {
   "cell_type": "code",
   "execution_count": 247,
   "id": "9ec29225-fbf7-4989-a920-693ab3871690",
   "metadata": {},
   "outputs": [],
   "source": [
    "class RAGPipeline:\n",
    "    def __init__(self, model_name='paraphrase-MiniLM-L6-v2'):\n",
    "        self.model = SentenceTransformer(model_name)\n",
    "        self.documents = []\n",
    "        self.embeddings = []\n",
    "        self.topics = []\n",
    "\n",
    "    def index_documents(self, docs, topics):\n",
    "        \"\"\"\n",
    "        Index a list of documents by generating their embeddings and storing topics.\n",
    "        \n",
    "        :param docs: List of document texts to be indexed.\n",
    "        :param topics: List of topic labels corresponding to each document.\n",
    "        \"\"\"\n",
    "        self.documents.extend(docs)\n",
    "        self.topics.extend(topics)\n",
    "        doc_embeddings = self.model.encode(docs, convert_to_tensor=True)\n",
    "        self.embeddings.extend(doc_embeddings)\n",
    "\n",
    "    def search(self, query, top_k=5, topic=None):\n",
    "        \"\"\"\n",
    "        Search for the top_k most relevant documents based on the input query and optional topic.\n",
    "        \n",
    "        :param query: The search query text.\n",
    "        :param top_k: The number of top relevant documents to return.\n",
    "        :param topic: Optional topic label to filter documents.\n",
    "        :return: List of top_k relevant document texts.\n",
    "        \"\"\"\n",
    "        query_embedding = self.model.encode(query, convert_to_tensor=True)\n",
    "\n",
    "        if topic:\n",
    "            filtered_indices = [i for i, t in enumerate(self.topics) if t == topic]\n",
    "            filtered_embeddings = [self.embeddings[i] for i in filtered_indices]\n",
    "            filtered_docs = [self.documents[i] for i in filtered_indices]\n",
    "        else:\n",
    "            filtered_embeddings = self.embeddings\n",
    "            filtered_docs = self.documents\n",
    "\n",
    "        cos_similarities = cosine_similarity(\n",
    "            query_embedding.cpu().numpy().reshape(1, -1),\n",
    "            np.array([embedding.cpu().numpy() for embedding in filtered_embeddings])\n",
    "        ).flatten()\n",
    "\n",
    "        top_indices = np.argsort(-cos_similarities)[:top_k]\n",
    "        return [filtered_docs[idx] for idx in top_indices]"
   ]
  },
  {
   "cell_type": "code",
   "execution_count": null,
   "id": "1c20b840-9d48-4a95-8ca3-f01f58c67ff6",
   "metadata": {},
   "outputs": [],
   "source": [
    "# Add link to Llama index tutorial"
   ]
  }
 ],
 "metadata": {
  "kernelspec": {
   "display_name": "Python 3 (ipykernel)",
   "language": "python",
   "name": "python3"
  },
  "language_info": {
   "codemirror_mode": {
    "name": "ipython",
    "version": 3
   },
   "file_extension": ".py",
   "mimetype": "text/x-python",
   "name": "python",
   "nbconvert_exporter": "python",
   "pygments_lexer": "ipython3",
   "version": "3.11.9"
  }
 },
 "nbformat": 4,
 "nbformat_minor": 5
}
